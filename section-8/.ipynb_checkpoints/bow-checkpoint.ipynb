{
 "cells": [
  {
   "cell_type": "markdown",
   "id": "882a5663-050f-4869-adca-e28a3074e663",
   "metadata": {},
   "source": [
    "# BOW\n",
    "\n",
    "- Bag of Words\n",
    "- 문서를 분리하여 단어를 피처로 만드는 방식\n",
    "- 값으로는 단어의 반복횟수 등을 넣어 단어피처에 대한 벡터화를 수행한다.\n",
    "- 각 문장의 피처단어의 반복횟수를 판단할 근거를 제공하여, 문서의 속성을 단어의 반복에 따라 정의할 수 있다.\n",
    "\n",
    "### 단점\n",
    "- 문맥이 생략되는 문제가 있다.\n",
    "- 희소행렬 문제: 문장에 피처단어가 없는 경우가 많으므로 빈값(0)이 많이 발생한다.\n"
   ]
  },
  {
   "cell_type": "code",
   "execution_count": 2,
   "id": "ef1777e7-a783-4951-a1cb-7b62d95b29e5",
   "metadata": {},
   "outputs": [
    {
     "name": "stdout",
     "output_type": "stream",
     "text": [
      "['The Matrix is everywhere its all around us, here even in this room.                   You can see it out your window or on your television.                  You feel it when you go to work, or go to church or pay your taxes.', 'You take the blue pill and story ends. You wake in your bed and you believe whatever you want to believe                  You take the red pill and you stay in Wonderland and I show you how deep the rabbit-hole goes.'] \n",
      " 2\n"
     ]
    }
   ],
   "source": [
    "text_sample_01 = 'The Matrix is everywhere its all around us, here even in this room. \\\n",
    "                  You can see it out your window or on your television.\\\n",
    "                  You feel it when you go to work, or go to church or pay your taxes.'\n",
    "text_sample_02 = 'You take the blue pill and story ends. You wake in your bed and you believe whatever you want to believe\\\n",
    "                  You take the red pill and you stay in Wonderland and I show you how deep the rabbit-hole goes.'\n",
    "\n",
    "text = []\n",
    "text.append(text_sample_01)\n",
    "text.append(text_sample_02)\n",
    "print(text, \"\\n\", len(text))\n"
   ]
  },
  {
   "cell_type": "markdown",
   "id": "4078fa18-14a8-4342-a595-0927e90acfd4",
   "metadata": {},
   "source": [
    "## Count 방식\n",
    "\n",
    "- 단어의 반복횟수를 기반으로 값을 측정한다.\n",
    "\n",
    "### 희소행렬 방식\n",
    "- 기본적으로 0 이 아닌값만 행렬로 저장하는데 초점을 둔다.\n",
    "\n",
    "#### COO\n",
    "- 0이 아닌 값의 행의 위치만 기록하는 배열 1개, 열의 위치만 기록하는 배열 1개를 만든다.\n",
    "- 그리고, 실제 카운팅 값을 기록하는 배열 1개까지 합하여 총 3개의 배열에 정보를 기록한다.\n",
    "\n",
    "#### CSR\n",
    "- COO 에서 행위치의 배열을 한번더 압축한 방식\n",
    "- 행위치가 변하는 부분만 기록하는 배열을 사용한다.\n"
   ]
  },
  {
   "cell_type": "code",
   "execution_count": 3,
   "id": "614575b7-9007-4ab9-8218-570729930fbc",
   "metadata": {},
   "outputs": [],
   "source": [
    "from sklearn.feature_extraction.text import CountVectorizer"
   ]
  },
  {
   "cell_type": "code",
   "execution_count": 4,
   "id": "c25945dd-37df-432f-9d1f-94eecf324a9f",
   "metadata": {},
   "outputs": [
    {
     "data": {
      "text/plain": [
       "CountVectorizer()"
      ]
     },
     "execution_count": 4,
     "metadata": {},
     "output_type": "execute_result"
    }
   ],
   "source": [
    "cnt_vect = CountVectorizer()\n",
    "cnt_vect.fit(text)"
   ]
  },
  {
   "cell_type": "code",
   "execution_count": 5,
   "id": "48c44735-a500-4a79-ba63-76721b963444",
   "metadata": {},
   "outputs": [],
   "source": [
    "ftr_vect = cnt_vect.transform(text)"
   ]
  },
  {
   "cell_type": "code",
   "execution_count": 6,
   "id": "4361f8b2-0480-49a6-ba28-ad8a3bbf0e66",
   "metadata": {},
   "outputs": [
    {
     "name": "stdout",
     "output_type": "stream",
     "text": [
      "<class 'scipy.sparse.csr.csr_matrix'> (2, 51)\n",
      "  (0, 0)\t1\n",
      "  (0, 2)\t1\n",
      "  (0, 6)\t1\n",
      "  (0, 7)\t1\n",
      "  (0, 10)\t1\n",
      "  (0, 11)\t1\n",
      "  (0, 12)\t1\n",
      "  (0, 13)\t2\n",
      "  (0, 15)\t1\n",
      "  (0, 18)\t1\n",
      "  (0, 19)\t1\n",
      "  (0, 20)\t2\n",
      "  (0, 21)\t1\n",
      "  (0, 22)\t1\n",
      "  (0, 23)\t1\n",
      "  (0, 24)\t3\n",
      "  (0, 25)\t1\n",
      "  (0, 26)\t1\n",
      "  (0, 30)\t1\n",
      "  (0, 31)\t1\n",
      "  (0, 36)\t1\n",
      "  (0, 37)\t1\n",
      "  (0, 38)\t1\n",
      "  (0, 39)\t1\n",
      "  (0, 40)\t2\n",
      "  :\t:\n",
      "  (1, 1)\t4\n",
      "  (1, 3)\t1\n",
      "  (1, 4)\t2\n",
      "  (1, 5)\t1\n",
      "  (1, 8)\t1\n",
      "  (1, 9)\t1\n",
      "  (1, 14)\t1\n",
      "  (1, 16)\t1\n",
      "  (1, 17)\t1\n",
      "  (1, 18)\t2\n",
      "  (1, 27)\t2\n",
      "  (1, 28)\t1\n",
      "  (1, 29)\t1\n",
      "  (1, 32)\t1\n",
      "  (1, 33)\t1\n",
      "  (1, 34)\t1\n",
      "  (1, 35)\t2\n",
      "  (1, 38)\t3\n",
      "  (1, 40)\t1\n",
      "  (1, 42)\t1\n",
      "  (1, 43)\t1\n",
      "  (1, 44)\t1\n",
      "  (1, 47)\t1\n",
      "  (1, 49)\t7\n",
      "  (1, 50)\t1\n"
     ]
    }
   ],
   "source": [
    "print(type(ftr_vect), ftr_vect.shape)\n",
    "print(ftr_vect)"
   ]
  },
  {
   "cell_type": "code",
   "execution_count": 7,
   "id": "b04695ba-fa94-435a-b2cf-83726ec4ccd6",
   "metadata": {},
   "outputs": [
    {
     "name": "stdout",
     "output_type": "stream",
     "text": [
      "{'the': 38, 'matrix': 22, 'is': 19, 'everywhere': 11, 'its': 21, 'all': 0, 'around': 2, 'us': 41, 'here': 15, 'even': 10, 'in': 18, 'this': 39, 'room': 30, 'you': 49, 'can': 6, 'see': 31, 'it': 20, 'out': 25, 'your': 50, 'window': 46, 'or': 24, 'on': 23, 'television': 37, 'feel': 12, 'when': 45, 'go': 13, 'to': 40, 'work': 48, 'church': 7, 'pay': 26, 'taxes': 36, 'take': 35, 'blue': 5, 'pill': 27, 'and': 1, 'story': 34, 'ends': 9, 'wake': 42, 'bed': 3, 'believe': 4, 'whatever': 44, 'want': 43, 'red': 29, 'stay': 33, 'wonderland': 47, 'show': 32, 'how': 17, 'deep': 8, 'rabbit': 28, 'hole': 16, 'goes': 14}\n"
     ]
    }
   ],
   "source": [
    "print(cnt_vect.vocabulary_)"
   ]
  },
  {
   "cell_type": "code",
   "execution_count": 8,
   "id": "b36bcf16-8da1-49d0-b569-02e314309147",
   "metadata": {},
   "outputs": [
    {
     "name": "stdout",
     "output_type": "stream",
     "text": [
      "<class 'scipy.sparse.csr.csr_matrix'> (2, 5)\n",
      "{'the': 2, 'you': 3, 'your': 4, 'or': 1, 'and': 0}\n"
     ]
    }
   ],
   "source": [
    "cnt_vect = CountVectorizer(max_features=5)\n",
    "cnt_vect.fit(text)\n",
    "ftr_vect = cnt_vect.transform(text)\n",
    "print(type(ftr_vect), ftr_vect.shape)\n",
    "print(cnt_vect.vocabulary_)"
   ]
  },
  {
   "cell_type": "code",
   "execution_count": 9,
   "id": "b4bfa4f8-3523-467f-b333-9602fd2badb1",
   "metadata": {},
   "outputs": [
    {
     "name": "stdout",
     "output_type": "stream",
     "text": [
      "<class 'scipy.sparse.csr.csr_matrix'> (2, 124)\n",
      "{'the': 82, 'matrix': 49, 'is': 42, 'everywhere': 25, 'its': 47, 'all': 0, 'around': 6, 'us': 93, 'here': 32, 'even': 23, 'in': 38, 'this': 87, 'room': 67, 'you': 109, 'can': 15, 'see': 69, 'it': 44, 'out': 57, 'your': 119, 'window': 103, 'or': 53, 'on': 51, 'television': 80, 'feel': 27, 'when': 101, 'go': 29, 'to': 89, 'work': 107, 'church': 17, 'pay': 59, 'taxes': 79, 'the matrix': 84, 'matrix is': 50, 'is everywhere': 43, 'everywhere its': 26, 'its all': 48, 'all around': 1, 'around us': 7, 'us here': 94, 'here even': 33, 'even in': 24, 'in this': 39, 'this room': 88, 'room you': 68, 'you can': 111, 'can see': 16, 'see it': 70, 'it out': 45, 'out your': 58, 'your window': 123, 'window or': 104, 'or on': 55, 'on your': 52, 'your television': 122, 'television you': 81, 'you feel': 112, 'feel it': 28, 'it when': 46, 'when you': 102, 'you go': 113, 'go to': 30, 'to work': 92, 'work or': 108, 'or go': 54, 'to church': 91, 'church or': 18, 'or pay': 56, 'pay your': 60, 'your taxes': 121, 'take': 77, 'blue': 13, 'pill': 61, 'and': 2, 'story': 75, 'ends': 21, 'wake': 95, 'bed': 8, 'believe': 10, 'whatever': 99, 'want': 97, 'red': 65, 'stay': 73, 'wonderland': 105, 'show': 71, 'how': 36, 'deep': 19, 'rabbit': 63, 'hole': 34, 'goes': 31, 'you take': 116, 'take the': 78, 'the blue': 83, 'blue pill': 14, 'pill and': 62, 'and story': 4, 'story ends': 76, 'ends you': 22, 'you wake': 117, 'wake in': 96, 'in your': 41, 'your bed': 120, 'bed and': 9, 'and you': 5, 'you believe': 110, 'believe whatever': 11, 'whatever you': 100, 'you want': 118, 'want to': 98, 'to believe': 90, 'believe you': 12, 'the red': 86, 'red pill': 66, 'you stay': 115, 'stay in': 74, 'in wonderland': 40, 'wonderland and': 106, 'and show': 3, 'show you': 72, 'you how': 114, 'how deep': 37, 'deep the': 20, 'the rabbit': 85, 'rabbit hole': 64, 'hole goes': 35}\n"
     ]
    }
   ],
   "source": [
    "cnt_vect = CountVectorizer(ngram_range=(1, 2))\n",
    "cnt_vect.fit(text)\n",
    "ftr_vect = cnt_vect.transform(text)\n",
    "print(type(ftr_vect), ftr_vect.shape)\n",
    "print(cnt_vect.vocabulary_)"
   ]
  },
  {
   "cell_type": "markdown",
   "id": "dc68f0f5-dd72-49e2-9ba2-2d83d5b92f83",
   "metadata": {},
   "source": [
    "#### COO 형식"
   ]
  },
  {
   "cell_type": "code",
   "execution_count": 10,
   "id": "d488b4b2-4846-49d4-b43c-71d8ce6a45a9",
   "metadata": {},
   "outputs": [],
   "source": [
    "import numpy as np"
   ]
  },
  {
   "cell_type": "code",
   "execution_count": 11,
   "id": "33d1bcc8-fc32-424e-9d61-4fdaacc65a90",
   "metadata": {},
   "outputs": [],
   "source": [
    "dense = np.array([[3, 0, 1], [0, 2, 0]])"
   ]
  },
  {
   "cell_type": "code",
   "execution_count": 12,
   "id": "344dceab-2c9f-43c5-98a9-c21133695944",
   "metadata": {},
   "outputs": [],
   "source": [
    "from scipy import sparse"
   ]
  },
  {
   "cell_type": "code",
   "execution_count": 13,
   "id": "e8d40e8f-8219-4528-a921-6faf9f3ce255",
   "metadata": {},
   "outputs": [],
   "source": [
    "data = np.array([3, 1, 2])\n",
    "\n",
    "row_pos = np.array([0, 0, 1])\n",
    "col_pos = np.array([0, 2, 1])\n",
    "\n",
    "sparse_coo = sparse.coo_matrix((data, (row_pos, col_pos)))"
   ]
  },
  {
   "cell_type": "code",
   "execution_count": 14,
   "id": "021be805-9131-4975-9a14-2b3048a6dd02",
   "metadata": {},
   "outputs": [
    {
     "name": "stdout",
     "output_type": "stream",
     "text": [
      "<class 'scipy.sparse.coo.coo_matrix'>\n",
      "  (0, 0)\t3\n",
      "  (0, 2)\t1\n",
      "  (1, 1)\t2\n",
      "<class 'numpy.ndarray'> \n",
      " [[3 0 1]\n",
      " [0 2 0]]\n"
     ]
    }
   ],
   "source": [
    "print(type(sparse_coo))\n",
    "print(sparse_coo)\n",
    "dense01 = sparse_coo.toarray()\n",
    "print(type(dense01), \"\\n\", dense01)"
   ]
  },
  {
   "cell_type": "markdown",
   "id": "db1f0f1f-e77e-4cc2-a22b-8c8ed7ec76db",
   "metadata": {},
   "source": [
    "#### CSR 형식"
   ]
  },
  {
   "cell_type": "code",
   "execution_count": 15,
   "id": "91a6cadd-8d3e-4c7b-ae72-762905a71d0c",
   "metadata": {},
   "outputs": [],
   "source": [
    "from scipy import sparse"
   ]
  },
  {
   "cell_type": "code",
   "execution_count": 21,
   "id": "59f83cec-10f3-499f-959f-d695148e9632",
   "metadata": {},
   "outputs": [
    {
     "name": "stdout",
     "output_type": "stream",
     "text": [
      "COO 변환된 데이터가 제대로 되었는지 다시 Dense 로 출력 확인\n",
      "[[0 0 1 0 0 5]\n",
      " [1 4 0 3 2 5]\n",
      " [0 6 0 3 0 0]\n",
      " [2 0 0 0 0 0]\n",
      " [0 0 0 7 0 8]\n",
      " [1 0 0 0 0 0]]\n",
      "CSR 변환된 데이터가 제대로 되었는지 다시 Dense 로 출력 확인\n",
      "[[0 0 1 0 0 5]\n",
      " [1 4 0 3 2 5]\n",
      " [0 6 0 3 0 0]\n",
      " [2 0 0 0 0 0]\n",
      " [0 0 0 7 0 8]\n",
      " [1 0 0 0 0 0]]\n"
     ]
    }
   ],
   "source": [
    "dense2 = np.array([[0, 0, 1, 0, 0, 5],\n",
    "                  [1, 4, 0, 3, 2, 5],\n",
    "                  [0, 6, 0, 3, 0, 0],\n",
    "                  [2, 0, 0, 0, 0, 0],\n",
    "                  [0, 0, 0, 7, 0, 8],\n",
    "                  [1, 0, 0, 0, 0, 0]])\n",
    "# 0 이 아닌 값\n",
    "data2 = np.array([1, 5, 1, 4, 3, 2, 5, 6, 3, 2, 7, 8, 1])\n",
    "\n",
    "# 행위치/열위치\n",
    "row_pos = np.array([0, 0, 1, 1, 1, 1, 1, 2, 2, 3, 4, 4, 5])\n",
    "col_pos = np.array([2, 5, 0, 1, 3, 4, 5, 1, 3, 0, 3, 5, 0])\n",
    "\n",
    "# coo 방식\n",
    "sparse_coo = sparse.coo_matrix((data2, (row_pos, col_pos)))\n",
    "\n",
    "row_pos_ind = np.array([0, 2, 7, 9, 10, 12, 13])\n",
    "\n",
    "# csr 방식\n",
    "sparse_csr = sparse.csr_matrix((data2, col_pos, row_pos_ind))\n",
    "\n",
    "print('COO 변환된 데이터가 제대로 되었는지 다시 Dense 로 출력 확인')\n",
    "print(sparse_coo.toarray())\n",
    "print('CSR 변환된 데이터가 제대로 되었는지 다시 Dense 로 출력 확인')\n",
    "print(sparse_csr.toarray())"
   ]
  },
  {
   "cell_type": "code",
   "execution_count": 22,
   "id": "5921caa4-a623-4dd6-97f1-daa1f93a8a60",
   "metadata": {},
   "outputs": [
    {
     "name": "stdout",
     "output_type": "stream",
     "text": [
      "  (0, 2)\t1\n",
      "  (0, 5)\t5\n",
      "  (1, 0)\t1\n",
      "  (1, 1)\t4\n",
      "  (1, 3)\t3\n",
      "  (1, 4)\t2\n",
      "  (1, 5)\t5\n",
      "  (2, 1)\t6\n",
      "  (2, 3)\t3\n",
      "  (3, 0)\t2\n",
      "  (4, 3)\t7\n",
      "  (4, 5)\t8\n",
      "  (5, 0)\t1\n"
     ]
    }
   ],
   "source": [
    "print(sparse_csr)"
   ]
  },
  {
   "cell_type": "code",
   "execution_count": null,
   "id": "1425d5ba-7b75-4b9d-9b22-27328a4408c8",
   "metadata": {},
   "outputs": [],
   "source": []
  },
  {
   "cell_type": "code",
   "execution_count": null,
   "id": "c14d8c2a-a3ca-41cf-be8b-761b345de847",
   "metadata": {},
   "outputs": [],
   "source": []
  },
  {
   "cell_type": "markdown",
   "id": "c5702f46-1817-4f56-a128-d0dd518edc98",
   "metadata": {},
   "source": [
    "## TF-IDF 방식\n",
    "\n",
    "- Term Frequency Inverse Document Frequency\n",
    "- TF: 하나의 문서에 단어가 반복된 횟수\n",
    "- IDF: DF 는 단어가 전체 문서에서 반복된 횟수로, 이를 (전체문서)/DF 와 같이 역수로 만든지표\n",
    "- 전체 문서에서 발생빈도가 높은것은 의미를 낮추고, 단일 문서에서 반복된 단어에 가중치를 부여하는 방식\n"
   ]
  },
  {
   "cell_type": "code",
   "execution_count": null,
   "id": "e8cd348e-81ca-435d-a0b0-9e0f5aca285d",
   "metadata": {},
   "outputs": [],
   "source": []
  },
  {
   "cell_type": "code",
   "execution_count": null,
   "id": "bbad94f6-7b8a-4ec3-9d66-562b1eecae4a",
   "metadata": {},
   "outputs": [],
   "source": []
  }
 ],
 "metadata": {
  "kernelspec": {
   "display_name": "Python 3 (ipykernel)",
   "language": "python",
   "name": "python3"
  },
  "language_info": {
   "codemirror_mode": {
    "name": "ipython",
    "version": 3
   },
   "file_extension": ".py",
   "mimetype": "text/x-python",
   "name": "python",
   "nbconvert_exporter": "python",
   "pygments_lexer": "ipython3",
   "version": "3.9.7"
  }
 },
 "nbformat": 4,
 "nbformat_minor": 5
}
