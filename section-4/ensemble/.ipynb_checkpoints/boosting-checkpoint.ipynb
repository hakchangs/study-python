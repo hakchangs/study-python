{
 "cells": [
  {
   "cell_type": "markdown",
   "id": "3adbf5b9-15e4-4e2a-96f6-0a3295666b0d",
   "metadata": {},
   "source": [
    "# Boosting\n",
    "\n",
    "- 여러개의 약한 학습기를 \"순차적\" 으로 학습-예측\n",
    "- 잘못 예측한 데이터나 학습트리에 가중치를 부여, 오류를 개선하며 학습수행\n"
   ]
  },
  {
   "cell_type": "markdown",
   "id": "deaae642-f969-44c0-bf6b-7139634b3cb0",
   "metadata": {},
   "source": [
    "## Ada Boosting\n",
    "\n",
    "- 반복적으로 예측오류값에 가중치를 수행하며 학습수행\n",
    "- 바로이전의 오류값만을 사용하여 가중치를 계산함\n",
    "\n",
    "<img alt=\"boosting\" src=\"../images/ada-boosting.png\" width=\"500px\" />\n"
   ]
  },
  {
   "cell_type": "markdown",
   "id": "fe617a98-db7e-49d9-bc30-43bf08ccd798",
   "metadata": {},
   "source": [
    "## GBM (Gradient Boost Machine)\n",
    "\n",
    "- Ada Boosting 과 유사\n",
    "- 오류값의 가중치 업데이트시 경사하강법(Gradient Descent)을 이용함\n",
    "- 오류값의 가중치가 지속적으로 누적됨\n",
    "- 오류값 = 실제값 - 예측값\n",
    "- h(x) = y - F(x)\n",
    "- learning_rate: 가중치 부여비율로 가중치 부여시 곱할값이다. //하이퍼 파라미터\n",
    "\n",
    "<img alt=\"gbm\" src=\"../images/gbm.png\" width=\"300px\" />\n",
    "     "
   ]
  },
  {
   "cell_type": "code",
   "execution_count": 4,
   "id": "24853bbb-15a6-40ec-bb0d-840cb7e5fdf7",
   "metadata": {},
   "outputs": [],
   "source": [
    "from sklearn.ensemble import GradientBoostingClassifier\n",
    "from sklearn.metrics import accuracy_score\n",
    "import time\n",
    "import warnings\n",
    "warnings.filterwarnings('ignore')\n",
    "\n",
    "from modules import load_human_activity"
   ]
  },
  {
   "cell_type": "code",
   "execution_count": 5,
   "id": "603118ea-b060-4961-8057-b44be07f3357",
   "metadata": {},
   "outputs": [
    {
     "name": "stdout",
     "output_type": "stream",
     "text": [
      "GBM 정확도: 0.9393\n",
      "GBM 수행시간: 533.4\n"
     ]
    }
   ],
   "source": [
    "X_train, X_test, y_train, y_test = load_human_activity.get_human_dataset()\n",
    "\n",
    "start_time = time.time()\n",
    "\n",
    "gb_clf = GradientBoostingClassifier(random_state=0)\n",
    "gb_clf.fit(X_train, y_train)\n",
    "gb_pred = gb_clf.predict(X_test)\n",
    "gb_accuracy = accuracy_score(y_test, gb_pred)\n",
    "\n",
    "print('GBM 정확도: {0:.4f}'.format(gb_accuracy))\n",
    "print('GBM 수행시간: {0:.1f}'.format(time.time() - start_time))"
   ]
  },
  {
   "cell_type": "code",
   "execution_count": 6,
   "id": "4e7cc9ec-471f-4d79-9c90-d42adc94e6f0",
   "metadata": {},
   "outputs": [],
   "source": [
    "from sklearn.model_selection import GridSearchCV"
   ]
  },
  {
   "cell_type": "code",
   "execution_count": 7,
   "id": "fa55a090-a275-40fa-ae40-8dba7c7a903c",
   "metadata": {},
   "outputs": [
    {
     "name": "stdout",
     "output_type": "stream",
     "text": [
      "Fitting 2 folds for each of 4 candidates, totalling 8 fits\n",
      "최적 하이퍼 파라미터:\n",
      " {'learning_rate': 0.05, 'n_estimators': 500}\n"
     ]
    },
    {
     "ename": "AttributeError",
     "evalue": "'GridSearchCV' object has no attribute 'best_socre_'",
     "output_type": "error",
     "traceback": [
      "\u001b[0;31m---------------------------------------------------------------------------\u001b[0m",
      "\u001b[0;31mAttributeError\u001b[0m                            Traceback (most recent call last)",
      "Input \u001b[0;32mIn [7]\u001b[0m, in \u001b[0;36m<cell line: 10>\u001b[0;34m()\u001b[0m\n\u001b[1;32m      7\u001b[0m grid_cv\u001b[38;5;241m.\u001b[39mfit(X_train, y_train)\n\u001b[1;32m      9\u001b[0m \u001b[38;5;28mprint\u001b[39m(\u001b[38;5;124m'\u001b[39m\u001b[38;5;124m최적 하이퍼 파라미터:\u001b[39m\u001b[38;5;130;01m\\n\u001b[39;00m\u001b[38;5;124m'\u001b[39m, grid_cv\u001b[38;5;241m.\u001b[39mbest_params_)\n\u001b[0;32m---> 10\u001b[0m \u001b[38;5;28mprint\u001b[39m(\u001b[38;5;124m'\u001b[39m\u001b[38;5;124m최고 예측정확도: \u001b[39m\u001b[38;5;132;01m{0:.4f}\u001b[39;00m\u001b[38;5;124m'\u001b[39m\u001b[38;5;241m.\u001b[39mformat(\u001b[43mgrid_cv\u001b[49m\u001b[38;5;241;43m.\u001b[39;49m\u001b[43mbest_socre_\u001b[49m))\n",
      "\u001b[0;31mAttributeError\u001b[0m: 'GridSearchCV' object has no attribute 'best_socre_'"
     ]
    }
   ],
   "source": [
    "params = {\n",
    "    'n_estimators': [100, 500],\n",
    "    'learning_rate': [0.05, 0.1],\n",
    "}\n",
    "\n",
    "grid_cv = GridSearchCV(gb_clf, param_grid=params, cv=2, verbose=1)\n",
    "grid_cv.fit(X_train, y_train)\n",
    "\n",
    "print('최적 하이퍼 파라미터:\\n', grid_cv.best_params_)\n",
    "print('최고 예측정확도: {0:.4f}'.format(grid_cv.best_score_))"
   ]
  },
  {
   "cell_type": "code",
   "execution_count": null,
   "id": "87209a40-b7bf-4c1a-9392-672127d6a473",
   "metadata": {},
   "outputs": [],
   "source": [
    "gb_prsklearn.model_selection.best_estimator_predict(X_test)\n",
    "gb_accuracy = accuracy_score(y_test, gb_pred)\n",
    "print('GBM 정확도: {0:.4f}'.format(gb_accuracy))"
   ]
  }
 ],
 "metadata": {
  "kernelspec": {
   "display_name": "Python 3 (ipykernel)",
   "language": "python",
   "name": "python3"
  },
  "language_info": {
   "codemirror_mode": {
    "name": "ipython",
    "version": 3
   },
   "file_extension": ".py",
   "mimetype": "text/x-python",
   "name": "python",
   "nbconvert_exporter": "python",
   "pygments_lexer": "ipython3",
   "version": "3.9.7"
  }
 },
 "nbformat": 4,
 "nbformat_minor": 5
}
