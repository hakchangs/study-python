{
 "cells": [
  {
   "cell_type": "markdown",
   "id": "65875acd-99f8-4a80-96da-7de1d7ef55ee",
   "metadata": {},
   "source": [
    "# HyperOpt\n",
    "\n",
    "- GridSearchCV 의 느린속도를 보완해줄 베이지안 최적화\n",
    "- 최소값을 구하는 로직을 통해 하이퍼파라미터 최적값을 도출해낼 수 있음\n",
    "\n",
    "<img alt=\"\" src=\"../images/hyperopt.png\" width=\"400px\" />"
   ]
  },
  {
   "cell_type": "code",
   "execution_count": 2,
   "id": "bb154f1c-a297-4032-bd15-10a1173c9309",
   "metadata": {},
   "outputs": [
    {
     "name": "stdout",
     "output_type": "stream",
     "text": [
      "0.2.7\n"
     ]
    }
   ],
   "source": [
    "import hyperopt\n",
    "print(hyperopt.__version__)"
   ]
  },
  {
   "cell_type": "markdown",
   "id": "705c438a-9399-4c99-be6d-db24099ade1f",
   "metadata": {},
   "source": [
    "## 사용순서\n",
    "\n",
    "1. 입력범위를 지정한다. (search_space)\n",
    "2. 목적함수를 생성한다.\n",
    "3. 최소값을 반환하는 함수를 호출한다."
   ]
  },
  {
   "cell_type": "code",
   "execution_count": 6,
   "id": "89d86366-7ffa-4eb1-a3e9-317b41855a46",
   "metadata": {},
   "outputs": [],
   "source": [
    "from hyperopt import hp"
   ]
  },
  {
   "cell_type": "code",
   "execution_count": 8,
   "id": "f2569311-0678-4153-a75c-851870d144a0",
   "metadata": {},
   "outputs": [],
   "source": [
    "# 1. 입력값의 범위설정\n",
    "\n",
    "search_space = {\n",
    "    'x': hp.quniform('x', -10, 10, 1),\n",
    "    'y': hp.quniform('y', -15, 15, 1),\n",
    "}"
   ]
  },
  {
   "cell_type": "code",
   "execution_count": 9,
   "id": "33e385aa-41c3-4937-ae8b-6c4a5dca0a19",
   "metadata": {},
   "outputs": [],
   "source": [
    "# 2. 목적함수 생성\n",
    "\n",
    "from hyperopt import STATUS_OK\n",
    "\n",
    "def objective_func(search_space):\n",
    "    x = search_space['x']\n",
    "    y = search_space['y']\n",
    "    retval = x**2 - 20*y\n",
    "    \n",
    "    return retval # return {'loss': retval, 'status': STATUS_OK}"
   ]
  },
  {
   "cell_type": "code",
   "execution_count": 11,
   "id": "20cdbf88-ec6f-467b-a9bf-ab62c253dfa4",
   "metadata": {},
   "outputs": [
    {
     "name": "stdout",
     "output_type": "stream",
     "text": [
      "100%|██████████| 5/5 [00:00<00:00, 813.70trial/s, best loss: -224.0]\n",
      "best: {'x': -4.0, 'y': 12.0}\n"
     ]
    }
   ],
   "source": [
    "# 3. 최소값을 반환하는 함수 호출\n",
    "\n",
    "from hyperopt import fmin, tpe, Trials\n",
    "import numpy as np\n",
    "\n",
    "trial_val = Trials() # 입력결과값을 저장한다.\n",
    "\n",
    "best_01 = fmin(fn=objective_func,\n",
    "               space=search_space,\n",
    "               algo=tpe.suggest,\n",
    "               max_evals=5, # 5번의 입력값 시도를 수행함\n",
    "               trials=trial_val,\n",
    "               rstate=np.random.default_rng(seed=0),\n",
    "              )\n",
    "\n",
    "print('best:', best_01)"
   ]
  },
  {
   "cell_type": "code",
   "execution_count": 12,
   "id": "93a252c8-b4f8-460b-b3f6-d092f0b4a14b",
   "metadata": {},
   "outputs": [
    {
     "name": "stdout",
     "output_type": "stream",
     "text": [
      "100%|██████████| 20/20 [00:00<00:00, 893.57trial/s, best loss: -296.0]\n",
      "best: {'x': 2.0, 'y': 15.0}\n"
     ]
    }
   ],
   "source": [
    "trial_val = Trials() # 입력결과값을 저장한다.\n",
    "\n",
    "best_02 = fmin(fn=objective_func,\n",
    "               space=search_space,\n",
    "               algo=tpe.suggest,\n",
    "               max_evals=20, # 20번의 입력값 시도를 수행함\n",
    "               trials=trial_val,\n",
    "               rstate=np.random.default_rng(seed=0),\n",
    "              )\n",
    "\n",
    "print('best:', best_02)"
   ]
  },
  {
   "cell_type": "markdown",
   "id": "b84ed79a-f08c-4542-8b35-6d1d4da78876",
   "metadata": {},
   "source": [
    "### 적용된 입력값들과 목적함수 반환값 확인"
   ]
  },
  {
   "cell_type": "code",
   "execution_count": 14,
   "id": "ec836b0b-fb71-448f-bfd0-4f77152a3178",
   "metadata": {},
   "outputs": [
    {
     "name": "stdout",
     "output_type": "stream",
     "text": [
      "[{'loss': -64.0, 'status': 'ok'}, {'loss': -184.0, 'status': 'ok'}, {'loss': 56.0, 'status': 'ok'}, {'loss': -224.0, 'status': 'ok'}, {'loss': 61.0, 'status': 'ok'}, {'loss': -296.0, 'status': 'ok'}, {'loss': -40.0, 'status': 'ok'}, {'loss': 281.0, 'status': 'ok'}, {'loss': 64.0, 'status': 'ok'}, {'loss': 100.0, 'status': 'ok'}, {'loss': 60.0, 'status': 'ok'}, {'loss': -39.0, 'status': 'ok'}, {'loss': 1.0, 'status': 'ok'}, {'loss': -164.0, 'status': 'ok'}, {'loss': 21.0, 'status': 'ok'}, {'loss': -56.0, 'status': 'ok'}, {'loss': 284.0, 'status': 'ok'}, {'loss': 176.0, 'status': 'ok'}, {'loss': -171.0, 'status': 'ok'}, {'loss': 0.0, 'status': 'ok'}]\n"
     ]
    }
   ],
   "source": [
    "print(trial_val.results)"
   ]
  },
  {
   "cell_type": "code",
   "execution_count": 15,
   "id": "f00e4207-5ad2-44dc-942c-0592f2db203d",
   "metadata": {},
   "outputs": [
    {
     "name": "stdout",
     "output_type": "stream",
     "text": [
      "{'x': [-6.0, -4.0, 4.0, -4.0, 9.0, 2.0, 10.0, -9.0, -8.0, -0.0, -0.0, 1.0, 9.0, 6.0, 9.0, 2.0, -2.0, -4.0, 7.0, -0.0], 'y': [5.0, 10.0, -2.0, 12.0, 1.0, 15.0, 7.0, -10.0, 0.0, -5.0, -3.0, 2.0, 4.0, 10.0, 3.0, 3.0, -14.0, -8.0, 11.0, -0.0]}\n"
     ]
    }
   ],
   "source": [
    "print(trial_val.vals)"
   ]
  },
  {
   "cell_type": "code",
   "execution_count": 16,
   "id": "9d6cfdd2-58af-4003-bd78-7c7283e1de7c",
   "metadata": {},
   "outputs": [
    {
     "data": {
      "text/html": [
       "<div>\n",
       "<style scoped>\n",
       "    .dataframe tbody tr th:only-of-type {\n",
       "        vertical-align: middle;\n",
       "    }\n",
       "\n",
       "    .dataframe tbody tr th {\n",
       "        vertical-align: top;\n",
       "    }\n",
       "\n",
       "    .dataframe thead th {\n",
       "        text-align: right;\n",
       "    }\n",
       "</style>\n",
       "<table border=\"1\" class=\"dataframe\">\n",
       "  <thead>\n",
       "    <tr style=\"text-align: right;\">\n",
       "      <th></th>\n",
       "      <th>x</th>\n",
       "      <th>y</th>\n",
       "      <th>losses</th>\n",
       "    </tr>\n",
       "  </thead>\n",
       "  <tbody>\n",
       "    <tr>\n",
       "      <th>0</th>\n",
       "      <td>-6.0</td>\n",
       "      <td>5.0</td>\n",
       "      <td>-64.0</td>\n",
       "    </tr>\n",
       "    <tr>\n",
       "      <th>1</th>\n",
       "      <td>-4.0</td>\n",
       "      <td>10.0</td>\n",
       "      <td>-184.0</td>\n",
       "    </tr>\n",
       "    <tr>\n",
       "      <th>2</th>\n",
       "      <td>4.0</td>\n",
       "      <td>-2.0</td>\n",
       "      <td>56.0</td>\n",
       "    </tr>\n",
       "    <tr>\n",
       "      <th>3</th>\n",
       "      <td>-4.0</td>\n",
       "      <td>12.0</td>\n",
       "      <td>-224.0</td>\n",
       "    </tr>\n",
       "    <tr>\n",
       "      <th>4</th>\n",
       "      <td>9.0</td>\n",
       "      <td>1.0</td>\n",
       "      <td>61.0</td>\n",
       "    </tr>\n",
       "    <tr>\n",
       "      <th>5</th>\n",
       "      <td>2.0</td>\n",
       "      <td>15.0</td>\n",
       "      <td>-296.0</td>\n",
       "    </tr>\n",
       "    <tr>\n",
       "      <th>6</th>\n",
       "      <td>10.0</td>\n",
       "      <td>7.0</td>\n",
       "      <td>-40.0</td>\n",
       "    </tr>\n",
       "    <tr>\n",
       "      <th>7</th>\n",
       "      <td>-9.0</td>\n",
       "      <td>-10.0</td>\n",
       "      <td>281.0</td>\n",
       "    </tr>\n",
       "    <tr>\n",
       "      <th>8</th>\n",
       "      <td>-8.0</td>\n",
       "      <td>0.0</td>\n",
       "      <td>64.0</td>\n",
       "    </tr>\n",
       "    <tr>\n",
       "      <th>9</th>\n",
       "      <td>-0.0</td>\n",
       "      <td>-5.0</td>\n",
       "      <td>100.0</td>\n",
       "    </tr>\n",
       "    <tr>\n",
       "      <th>10</th>\n",
       "      <td>-0.0</td>\n",
       "      <td>-3.0</td>\n",
       "      <td>60.0</td>\n",
       "    </tr>\n",
       "    <tr>\n",
       "      <th>11</th>\n",
       "      <td>1.0</td>\n",
       "      <td>2.0</td>\n",
       "      <td>-39.0</td>\n",
       "    </tr>\n",
       "    <tr>\n",
       "      <th>12</th>\n",
       "      <td>9.0</td>\n",
       "      <td>4.0</td>\n",
       "      <td>1.0</td>\n",
       "    </tr>\n",
       "    <tr>\n",
       "      <th>13</th>\n",
       "      <td>6.0</td>\n",
       "      <td>10.0</td>\n",
       "      <td>-164.0</td>\n",
       "    </tr>\n",
       "    <tr>\n",
       "      <th>14</th>\n",
       "      <td>9.0</td>\n",
       "      <td>3.0</td>\n",
       "      <td>21.0</td>\n",
       "    </tr>\n",
       "    <tr>\n",
       "      <th>15</th>\n",
       "      <td>2.0</td>\n",
       "      <td>3.0</td>\n",
       "      <td>-56.0</td>\n",
       "    </tr>\n",
       "    <tr>\n",
       "      <th>16</th>\n",
       "      <td>-2.0</td>\n",
       "      <td>-14.0</td>\n",
       "      <td>284.0</td>\n",
       "    </tr>\n",
       "    <tr>\n",
       "      <th>17</th>\n",
       "      <td>-4.0</td>\n",
       "      <td>-8.0</td>\n",
       "      <td>176.0</td>\n",
       "    </tr>\n",
       "    <tr>\n",
       "      <th>18</th>\n",
       "      <td>7.0</td>\n",
       "      <td>11.0</td>\n",
       "      <td>-171.0</td>\n",
       "    </tr>\n",
       "    <tr>\n",
       "      <th>19</th>\n",
       "      <td>-0.0</td>\n",
       "      <td>-0.0</td>\n",
       "      <td>0.0</td>\n",
       "    </tr>\n",
       "  </tbody>\n",
       "</table>\n",
       "</div>"
      ],
      "text/plain": [
       "       x     y  losses\n",
       "0   -6.0   5.0   -64.0\n",
       "1   -4.0  10.0  -184.0\n",
       "2    4.0  -2.0    56.0\n",
       "3   -4.0  12.0  -224.0\n",
       "4    9.0   1.0    61.0\n",
       "5    2.0  15.0  -296.0\n",
       "6   10.0   7.0   -40.0\n",
       "7   -9.0 -10.0   281.0\n",
       "8   -8.0   0.0    64.0\n",
       "9   -0.0  -5.0   100.0\n",
       "10  -0.0  -3.0    60.0\n",
       "11   1.0   2.0   -39.0\n",
       "12   9.0   4.0     1.0\n",
       "13   6.0  10.0  -164.0\n",
       "14   9.0   3.0    21.0\n",
       "15   2.0   3.0   -56.0\n",
       "16  -2.0 -14.0   284.0\n",
       "17  -4.0  -8.0   176.0\n",
       "18   7.0  11.0  -171.0\n",
       "19  -0.0  -0.0     0.0"
      ]
     },
     "execution_count": 16,
     "metadata": {},
     "output_type": "execute_result"
    }
   ],
   "source": [
    "import pandas as pd\n",
    "\n",
    "losses = [loss_dict['loss'] for loss_dict in trial_val.results]\n",
    "\n",
    "result_df = pd.DataFrame({\n",
    "    'x': trial_val.vals['x'],\n",
    "    'y': trial_val.vals['y'],\n",
    "    'losses': losses,\n",
    "})\n",
    "\n",
    "result_df"
   ]
  },
  {
   "cell_type": "markdown",
   "id": "05f13cd7-f087-4ada-bcd5-032864a26955",
   "metadata": {},
   "source": [
    "## HyperOpt 를 XGBoost 하이퍼 파라미터 튜닝에 적용\n",
    "- 위스콘신 유방암 예시 사용"
   ]
  },
  {
   "cell_type": "code",
   "execution_count": 17,
   "id": "cbff9348-c60d-48ce-ac77-d93c56b65649",
   "metadata": {},
   "outputs": [],
   "source": [
    "import pandas as pd\n",
    "import numpy as np\n",
    "from sklearn.datasets import load_breast_cancer\n",
    "from sklearn.model_selection import train_test_split\n",
    "import warnings\n",
    "warnings.filterwarnings('ignore')"
   ]
  },
  {
   "cell_type": "code",
   "execution_count": 19,
   "id": "04682387-6d7c-4e3e-8e30-db3afc60bee0",
   "metadata": {},
   "outputs": [],
   "source": [
    "dataset = load_breast_cancer()\n",
    "\n",
    "cancer_df = pd.DataFrame(dataset.data, columns=dataset.feature_names)\n",
    "cancer_df['target'] = dataset.target\n",
    "X_features = cancer_df.iloc[:, :-1]\n",
    "y_label = cancer_df.iloc[:, -1]\n",
    "\n",
    "X_train, X_test, y_train, y_test = train_test_split(X_features, y_label,\n",
    "                                                   test_size=0.2, random_state=156)\n",
    "\n",
    "X_tr, X_val, y_tr, y_val = train_test_split(X_train, y_train,\n",
    "                                           test_size=0.1, random_state=156)"
   ]
  },
  {
   "cell_type": "markdown",
   "id": "ef3cd9bf-19fa-484f-b09d-709863731bab",
   "metadata": {},
   "source": [
    "<img alt=\"\" src=\"../images/hyperopt-flow.png\" />"
   ]
  },
  {
   "cell_type": "code",
   "execution_count": 22,
   "id": "48fd89f9-993a-438e-b8d1-ad65e7c06558",
   "metadata": {},
   "outputs": [],
   "source": [
    "from hyperopt import hp"
   ]
  },
  {
   "cell_type": "code",
   "execution_count": 25,
   "id": "c91c8d57-6900-46f5-a8f7-344151c7a648",
   "metadata": {},
   "outputs": [],
   "source": [
    "# 1. 입력값 범위 설정\n",
    "\n",
    "xgb_search_space = {\n",
    "    'max_depth': hp.quniform('max_depth', 5, 20, 1), #최소-최대값까지 일정간경을 가지고 입력값 범위 설정\n",
    "    'min_child_weight': hp.quniform('min_child_weight', 1, 2, 1),\n",
    "    'learning_rate': hp.uniform('learning_rate', 0.01, 0.2), #정규화방식으로 입력값범위 설정\n",
    "    'colsample_bytree': hp.uniform('colsample_bytree', 0.5, 1),\n",
    "}"
   ]
  },
  {
   "cell_type": "code",
   "execution_count": 27,
   "id": "aa65e8e7-a342-4f9f-a674-70cfbc4fe60a",
   "metadata": {},
   "outputs": [],
   "source": [
    "from sklearn.model_selection import cross_val_score\n",
    "from xgboost import XGBClassifier\n",
    "from hyperopt import STATUS_OK"
   ]
  },
  {
   "cell_type": "code",
   "execution_count": 29,
   "id": "167e89f0-c692-403f-ad68-b2ec22f7a322",
   "metadata": {},
   "outputs": [],
   "source": [
    "# 2. 목적함수 정의\n",
    "\n",
    "def objective_func(search_space):\n",
    "    xgb_clf = XGBClassifier(n_estimators=100,\n",
    "                            max_depth=int(search_space['max_depth']),\n",
    "                            min_child_weight=int(search_space['min_child_weight']),\n",
    "                            learning_rate=search_space['learning_rate'],\n",
    "                            colsample_bytree=search_space['colsample_bytree'],\n",
    "                            eval_metric='logloss')\n",
    "    \n",
    "    accuracy = cross_val_score(xgb_clf, X_train, y_train, scoring='accuracy', cv=3)\n",
    "    \n",
    "    return {\n",
    "        'loss': -1 * np.mean(accuracy),\n",
    "        'status': STATUS_OK,\n",
    "    }"
   ]
  },
  {
   "cell_type": "code",
   "execution_count": 30,
   "id": "65113f71-86c0-4ddc-b6df-e19d994e2344",
   "metadata": {},
   "outputs": [],
   "source": [
    "from hyperopt import fmin, tpe, Trials"
   ]
  },
  {
   "cell_type": "code",
   "execution_count": 31,
   "id": "97676632-dc92-4de5-a5f7-39cbeb85cc68",
   "metadata": {},
   "outputs": [
    {
     "name": "stdout",
     "output_type": "stream",
     "text": [
      "100%|██████████| 50/50 [01:38<00:00,  1.97s/trial, best loss: -0.9692401533635412]\n",
      "best: {'colsample_bytree': 0.548301545497125, 'learning_rate': 0.1840281762576621, 'max_depth': 18.0, 'min_child_weight': 2.0}\n"
     ]
    }
   ],
   "source": [
    "# 3. 최소값 함수를 통해 최적 하이퍼파라미터 도출\n",
    "\n",
    "trial_val = Trials()\n",
    "best = fmin(fn=objective_func,\n",
    "            space=xgb_search_space,\n",
    "            algo=tpe.suggest,\n",
    "            max_evals=50,\n",
    "            trials=trial_val,\n",
    "            rstate=np.random.default_rng(seed=9))\n",
    "\n",
    "print('best:', best)"
   ]
  },
  {
   "cell_type": "code",
   "execution_count": 32,
   "id": "c42630a8-2f6e-4673-944b-c91f3bc53a81",
   "metadata": {},
   "outputs": [
    {
     "name": "stdout",
     "output_type": "stream",
     "text": [
      "colsample_bytree: 0.5483, learning_rate: 0.18403, max_depth: 18, min_child_weight: 2\n"
     ]
    }
   ],
   "source": [
    "print('colsample_bytree: {0}, learning_rate: {1}, max_depth: {2}, min_child_weight: {3}'\n",
    "     .format(round(best['colsample_bytree'], 5), round(best['learning_rate'], 5),\n",
    "             int(best['max_depth']), int(best['min_child_weight'])))"
   ]
  },
  {
   "cell_type": "code",
   "execution_count": 33,
   "id": "f235438c-707a-4616-a2b1-698d0c97d0c7",
   "metadata": {},
   "outputs": [],
   "source": [
    "from modules.evaluation import get_clf_eval"
   ]
  },
  {
   "cell_type": "code",
   "execution_count": 35,
   "id": "5a26f4ca-8988-4957-9e20-4260b5036f42",
   "metadata": {},
   "outputs": [
    {
     "name": "stdout",
     "output_type": "stream",
     "text": [
      "[0]\tvalidation_0-logloss:0.54472\tvalidation_1-logloss:0.58675\n",
      "[1]\tvalidation_0-logloss:0.44155\tvalidation_1-logloss:0.52577\n",
      "[2]\tvalidation_0-logloss:0.36542\tvalidation_1-logloss:0.48906\n",
      "[3]\tvalidation_0-logloss:0.30756\tvalidation_1-logloss:0.45704\n",
      "[4]\tvalidation_0-logloss:0.26142\tvalidation_1-logloss:0.41671\n",
      "[5]\tvalidation_0-logloss:0.22616\tvalidation_1-logloss:0.39605\n",
      "[6]\tvalidation_0-logloss:0.19465\tvalidation_1-logloss:0.37095\n",
      "[7]\tvalidation_0-logloss:0.16951\tvalidation_1-logloss:0.36066\n",
      "[8]\tvalidation_0-logloss:0.14718\tvalidation_1-logloss:0.34686\n",
      "[9]\tvalidation_0-logloss:0.13006\tvalidation_1-logloss:0.33716\n",
      "[10]\tvalidation_0-logloss:0.11635\tvalidation_1-logloss:0.32332\n",
      "[11]\tvalidation_0-logloss:0.10455\tvalidation_1-logloss:0.32073\n",
      "[12]\tvalidation_0-logloss:0.09388\tvalidation_1-logloss:0.31916\n",
      "[13]\tvalidation_0-logloss:0.08434\tvalidation_1-logloss:0.30988\n",
      "[14]\tvalidation_0-logloss:0.07702\tvalidation_1-logloss:0.30469\n",
      "[15]\tvalidation_0-logloss:0.07144\tvalidation_1-logloss:0.30293\n",
      "[16]\tvalidation_0-logloss:0.06649\tvalidation_1-logloss:0.29609\n",
      "[17]\tvalidation_0-logloss:0.06119\tvalidation_1-logloss:0.29303\n",
      "[18]\tvalidation_0-logloss:0.05693\tvalidation_1-logloss:0.28973\n",
      "[19]\tvalidation_0-logloss:0.05291\tvalidation_1-logloss:0.28781\n",
      "[20]\tvalidation_0-logloss:0.04951\tvalidation_1-logloss:0.28757\n",
      "[21]\tvalidation_0-logloss:0.04603\tvalidation_1-logloss:0.28904\n",
      "[22]\tvalidation_0-logloss:0.04376\tvalidation_1-logloss:0.28744\n",
      "[23]\tvalidation_0-logloss:0.04113\tvalidation_1-logloss:0.29028\n",
      "[24]\tvalidation_0-logloss:0.03932\tvalidation_1-logloss:0.28659\n",
      "[25]\tvalidation_0-logloss:0.03741\tvalidation_1-logloss:0.29059\n",
      "[26]\tvalidation_0-logloss:0.03570\tvalidation_1-logloss:0.28740\n",
      "[27]\tvalidation_0-logloss:0.03416\tvalidation_1-logloss:0.28613\n",
      "[28]\tvalidation_0-logloss:0.03309\tvalidation_1-logloss:0.28441\n",
      "[29]\tvalidation_0-logloss:0.03166\tvalidation_1-logloss:0.28617\n",
      "[30]\tvalidation_0-logloss:0.03059\tvalidation_1-logloss:0.28501\n",
      "[31]\tvalidation_0-logloss:0.02961\tvalidation_1-logloss:0.28505\n",
      "[32]\tvalidation_0-logloss:0.02881\tvalidation_1-logloss:0.28319\n",
      "[33]\tvalidation_0-logloss:0.02801\tvalidation_1-logloss:0.28407\n",
      "[34]\tvalidation_0-logloss:0.02710\tvalidation_1-logloss:0.27684\n",
      "[35]\tvalidation_0-logloss:0.02654\tvalidation_1-logloss:0.27598\n",
      "[36]\tvalidation_0-logloss:0.02591\tvalidation_1-logloss:0.27329\n",
      "[37]\tvalidation_0-logloss:0.02514\tvalidation_1-logloss:0.26722\n",
      "[38]\tvalidation_0-logloss:0.02484\tvalidation_1-logloss:0.26668\n",
      "[39]\tvalidation_0-logloss:0.02424\tvalidation_1-logloss:0.26733\n",
      "[40]\tvalidation_0-logloss:0.02404\tvalidation_1-logloss:0.26721\n",
      "[41]\tvalidation_0-logloss:0.02374\tvalidation_1-logloss:0.26519\n",
      "[42]\tvalidation_0-logloss:0.02351\tvalidation_1-logloss:0.26809\n",
      "[43]\tvalidation_0-logloss:0.02295\tvalidation_1-logloss:0.27016\n",
      "[44]\tvalidation_0-logloss:0.02272\tvalidation_1-logloss:0.26844\n",
      "[45]\tvalidation_0-logloss:0.02252\tvalidation_1-logloss:0.27126\n",
      "[46]\tvalidation_0-logloss:0.02233\tvalidation_1-logloss:0.26975\n",
      "[47]\tvalidation_0-logloss:0.02214\tvalidation_1-logloss:0.26975\n",
      "[48]\tvalidation_0-logloss:0.02175\tvalidation_1-logloss:0.27071\n",
      "[49]\tvalidation_0-logloss:0.02157\tvalidation_1-logloss:0.26926\n",
      "[50]\tvalidation_0-logloss:0.02122\tvalidation_1-logloss:0.27124\n",
      "[51]\tvalidation_0-logloss:0.02087\tvalidation_1-logloss:0.27159\n",
      "[52]\tvalidation_0-logloss:0.02070\tvalidation_1-logloss:0.27435\n",
      "[53]\tvalidation_0-logloss:0.02054\tvalidation_1-logloss:0.27227\n",
      "[54]\tvalidation_0-logloss:0.02040\tvalidation_1-logloss:0.27114\n",
      "[55]\tvalidation_0-logloss:0.02025\tvalidation_1-logloss:0.26898\n",
      "[56]\tvalidation_0-logloss:0.02012\tvalidation_1-logloss:0.27039\n",
      "[57]\tvalidation_0-logloss:0.01998\tvalidation_1-logloss:0.26914\n",
      "[58]\tvalidation_0-logloss:0.01983\tvalidation_1-logloss:0.27181\n",
      "[59]\tvalidation_0-logloss:0.01970\tvalidation_1-logloss:0.27142\n",
      "[60]\tvalidation_0-logloss:0.01956\tvalidation_1-logloss:0.26793\n",
      "[61]\tvalidation_0-logloss:0.01945\tvalidation_1-logloss:0.26890\n",
      "[62]\tvalidation_0-logloss:0.01932\tvalidation_1-logloss:0.26558\n",
      "[63]\tvalidation_0-logloss:0.01922\tvalidation_1-logloss:0.26380\n",
      "[64]\tvalidation_0-logloss:0.01909\tvalidation_1-logloss:0.26627\n",
      "[65]\tvalidation_0-logloss:0.01896\tvalidation_1-logloss:0.26761\n",
      "[66]\tvalidation_0-logloss:0.01885\tvalidation_1-logloss:0.26726\n",
      "[67]\tvalidation_0-logloss:0.01874\tvalidation_1-logloss:0.26420\n",
      "[68]\tvalidation_0-logloss:0.01863\tvalidation_1-logloss:0.26519\n",
      "[69]\tvalidation_0-logloss:0.01852\tvalidation_1-logloss:0.26755\n",
      "[70]\tvalidation_0-logloss:0.01841\tvalidation_1-logloss:0.26766\n",
      "[71]\tvalidation_0-logloss:0.01831\tvalidation_1-logloss:0.26738\n",
      "[72]\tvalidation_0-logloss:0.01821\tvalidation_1-logloss:0.26560\n",
      "[73]\tvalidation_0-logloss:0.01811\tvalidation_1-logloss:0.26778\n",
      "[74]\tvalidation_0-logloss:0.01802\tvalidation_1-logloss:0.26628\n",
      "[75]\tvalidation_0-logloss:0.01792\tvalidation_1-logloss:0.26601\n",
      "[76]\tvalidation_0-logloss:0.01782\tvalidation_1-logloss:0.26490\n",
      "[77]\tvalidation_0-logloss:0.01773\tvalidation_1-logloss:0.26706\n",
      "[78]\tvalidation_0-logloss:0.01764\tvalidation_1-logloss:0.26707\n",
      "[79]\tvalidation_0-logloss:0.01755\tvalidation_1-logloss:0.26798\n",
      "[80]\tvalidation_0-logloss:0.01745\tvalidation_1-logloss:0.26496\n",
      "[81]\tvalidation_0-logloss:0.01736\tvalidation_1-logloss:0.26459\n",
      "[82]\tvalidation_0-logloss:0.01728\tvalidation_1-logloss:0.26434\n",
      "[83]\tvalidation_0-logloss:0.01719\tvalidation_1-logloss:0.26527\n",
      "[84]\tvalidation_0-logloss:0.01710\tvalidation_1-logloss:0.26244\n",
      "[85]\tvalidation_0-logloss:0.01702\tvalidation_1-logloss:0.26336\n",
      "[86]\tvalidation_0-logloss:0.01694\tvalidation_1-logloss:0.26230\n",
      "[87]\tvalidation_0-logloss:0.01686\tvalidation_1-logloss:0.26193\n",
      "[88]\tvalidation_0-logloss:0.01678\tvalidation_1-logloss:0.26243\n",
      "[89]\tvalidation_0-logloss:0.01671\tvalidation_1-logloss:0.26481\n",
      "[90]\tvalidation_0-logloss:0.01663\tvalidation_1-logloss:0.26362\n",
      "[91]\tvalidation_0-logloss:0.01656\tvalidation_1-logloss:0.26339\n",
      "[92]\tvalidation_0-logloss:0.01650\tvalidation_1-logloss:0.26328\n",
      "[93]\tvalidation_0-logloss:0.01643\tvalidation_1-logloss:0.26328\n",
      "[94]\tvalidation_0-logloss:0.01636\tvalidation_1-logloss:0.26216\n",
      "[95]\tvalidation_0-logloss:0.01629\tvalidation_1-logloss:0.25971\n",
      "[96]\tvalidation_0-logloss:0.01623\tvalidation_1-logloss:0.26199\n",
      "[97]\tvalidation_0-logloss:0.01616\tvalidation_1-logloss:0.26191\n",
      "[98]\tvalidation_0-logloss:0.01610\tvalidation_1-logloss:0.26160\n",
      "[99]\tvalidation_0-logloss:0.01603\tvalidation_1-logloss:0.26073\n",
      "[100]\tvalidation_0-logloss:0.01597\tvalidation_1-logloss:0.26073\n",
      "[101]\tvalidation_0-logloss:0.01591\tvalidation_1-logloss:0.26052\n",
      "[102]\tvalidation_0-logloss:0.01584\tvalidation_1-logloss:0.26109\n",
      "[103]\tvalidation_0-logloss:0.01579\tvalidation_1-logloss:0.26323\n",
      "[104]\tvalidation_0-logloss:0.01573\tvalidation_1-logloss:0.26322\n",
      "[105]\tvalidation_0-logloss:0.01568\tvalidation_1-logloss:0.26228\n",
      "[106]\tvalidation_0-logloss:0.01562\tvalidation_1-logloss:0.26241\n",
      "[107]\tvalidation_0-logloss:0.01555\tvalidation_1-logloss:0.26004\n",
      "[108]\tvalidation_0-logloss:0.01550\tvalidation_1-logloss:0.25928\n",
      "[109]\tvalidation_0-logloss:0.01544\tvalidation_1-logloss:0.25986\n",
      "[110]\tvalidation_0-logloss:0.01538\tvalidation_1-logloss:0.25964\n",
      "[111]\tvalidation_0-logloss:0.01533\tvalidation_1-logloss:0.25758\n",
      "[112]\tvalidation_0-logloss:0.01528\tvalidation_1-logloss:0.25775\n",
      "[113]\tvalidation_0-logloss:0.01522\tvalidation_1-logloss:0.25833\n",
      "[114]\tvalidation_0-logloss:0.01517\tvalidation_1-logloss:0.25828\n",
      "[115]\tvalidation_0-logloss:0.01512\tvalidation_1-logloss:0.25797\n",
      "[116]\tvalidation_0-logloss:0.01507\tvalidation_1-logloss:0.26003\n",
      "[117]\tvalidation_0-logloss:0.01502\tvalidation_1-logloss:0.25929\n",
      "[118]\tvalidation_0-logloss:0.01497\tvalidation_1-logloss:0.25928\n",
      "[119]\tvalidation_0-logloss:0.01493\tvalidation_1-logloss:0.25928\n",
      "[120]\tvalidation_0-logloss:0.01487\tvalidation_1-logloss:0.25726\n",
      "[121]\tvalidation_0-logloss:0.01483\tvalidation_1-logloss:0.25923\n",
      "[122]\tvalidation_0-logloss:0.01479\tvalidation_1-logloss:0.25943\n",
      "[123]\tvalidation_0-logloss:0.01474\tvalidation_1-logloss:0.25939\n",
      "[124]\tvalidation_0-logloss:0.01469\tvalidation_1-logloss:0.25746\n",
      "[125]\tvalidation_0-logloss:0.01465\tvalidation_1-logloss:0.25768\n",
      "[126]\tvalidation_0-logloss:0.01461\tvalidation_1-logloss:0.25703\n",
      "[127]\tvalidation_0-logloss:0.01456\tvalidation_1-logloss:0.25761\n",
      "[128]\tvalidation_0-logloss:0.01452\tvalidation_1-logloss:0.25755\n",
      "[129]\tvalidation_0-logloss:0.01448\tvalidation_1-logloss:0.25695\n",
      "[130]\tvalidation_0-logloss:0.01444\tvalidation_1-logloss:0.25694\n",
      "[131]\tvalidation_0-logloss:0.01440\tvalidation_1-logloss:0.25884\n",
      "[132]\tvalidation_0-logloss:0.01436\tvalidation_1-logloss:0.25713\n",
      "[133]\tvalidation_0-logloss:0.01432\tvalidation_1-logloss:0.25716\n",
      "[134]\tvalidation_0-logloss:0.01429\tvalidation_1-logloss:0.25689\n",
      "[135]\tvalidation_0-logloss:0.01425\tvalidation_1-logloss:0.25694\n",
      "[136]\tvalidation_0-logloss:0.01421\tvalidation_1-logloss:0.25750\n",
      "[137]\tvalidation_0-logloss:0.01417\tvalidation_1-logloss:0.25745\n",
      "[138]\tvalidation_0-logloss:0.01413\tvalidation_1-logloss:0.25686\n",
      "[139]\tvalidation_0-logloss:0.01410\tvalidation_1-logloss:0.25660\n",
      "[140]\tvalidation_0-logloss:0.01406\tvalidation_1-logloss:0.25843\n",
      "[141]\tvalidation_0-logloss:0.01403\tvalidation_1-logloss:0.25847\n",
      "[142]\tvalidation_0-logloss:0.01400\tvalidation_1-logloss:0.25844\n",
      "[143]\tvalidation_0-logloss:0.01396\tvalidation_1-logloss:0.25898\n",
      "[144]\tvalidation_0-logloss:0.01393\tvalidation_1-logloss:0.25828\n",
      "[145]\tvalidation_0-logloss:0.01390\tvalidation_1-logloss:0.25802\n",
      "[146]\tvalidation_0-logloss:0.01387\tvalidation_1-logloss:0.25825\n",
      "[147]\tvalidation_0-logloss:0.01384\tvalidation_1-logloss:0.25993\n",
      "[148]\tvalidation_0-logloss:0.01380\tvalidation_1-logloss:0.25935\n",
      "[149]\tvalidation_0-logloss:0.01377\tvalidation_1-logloss:0.25931\n",
      "[150]\tvalidation_0-logloss:0.01374\tvalidation_1-logloss:0.25866\n",
      "[151]\tvalidation_0-logloss:0.01370\tvalidation_1-logloss:0.25870\n",
      "[152]\tvalidation_0-logloss:0.01368\tvalidation_1-logloss:0.25894\n",
      "[153]\tvalidation_0-logloss:0.01365\tvalidation_1-logloss:0.25868\n",
      "[154]\tvalidation_0-logloss:0.01362\tvalidation_1-logloss:0.25801\n",
      "[155]\tvalidation_0-logloss:0.01359\tvalidation_1-logloss:0.25750\n",
      "[156]\tvalidation_0-logloss:0.01356\tvalidation_1-logloss:0.25803\n",
      "[157]\tvalidation_0-logloss:0.01353\tvalidation_1-logloss:0.25799\n",
      "[158]\tvalidation_0-logloss:0.01350\tvalidation_1-logloss:0.25962\n",
      "[159]\tvalidation_0-logloss:0.01347\tvalidation_1-logloss:0.25966\n",
      "[160]\tvalidation_0-logloss:0.01344\tvalidation_1-logloss:0.25904\n",
      "[161]\tvalidation_0-logloss:0.01342\tvalidation_1-logloss:0.25930\n",
      "[162]\tvalidation_0-logloss:0.01339\tvalidation_1-logloss:0.25879\n",
      "[163]\tvalidation_0-logloss:0.01336\tvalidation_1-logloss:0.25875\n",
      "[164]\tvalidation_0-logloss:0.01333\tvalidation_1-logloss:0.26031\n",
      "[165]\tvalidation_0-logloss:0.01331\tvalidation_1-logloss:0.26007\n",
      "[166]\tvalidation_0-logloss:0.01329\tvalidation_1-logloss:0.25962\n",
      "[167]\tvalidation_0-logloss:0.01326\tvalidation_1-logloss:0.25964\n",
      "[168]\tvalidation_0-logloss:0.01324\tvalidation_1-logloss:0.26111\n",
      "[169]\tvalidation_0-logloss:0.01321\tvalidation_1-logloss:0.26049\n",
      "[170]\tvalidation_0-logloss:0.01319\tvalidation_1-logloss:0.26053\n",
      "[171]\tvalidation_0-logloss:0.01316\tvalidation_1-logloss:0.26029\n",
      "[172]\tvalidation_0-logloss:0.01314\tvalidation_1-logloss:0.26079\n",
      "[173]\tvalidation_0-logloss:0.01312\tvalidation_1-logloss:0.26035\n",
      "[174]\tvalidation_0-logloss:0.01310\tvalidation_1-logloss:0.26013\n",
      "[175]\tvalidation_0-logloss:0.01308\tvalidation_1-logloss:0.26039\n",
      "[176]\tvalidation_0-logloss:0.01306\tvalidation_1-logloss:0.26032\n",
      "[177]\tvalidation_0-logloss:0.01303\tvalidation_1-logloss:0.25974\n",
      "[178]\tvalidation_0-logloss:0.01301\tvalidation_1-logloss:0.26021\n",
      "[179]\tvalidation_0-logloss:0.01299\tvalidation_1-logloss:0.25980\n",
      "[180]\tvalidation_0-logloss:0.01297\tvalidation_1-logloss:0.26005\n",
      "[181]\tvalidation_0-logloss:0.01295\tvalidation_1-logloss:0.25997\n",
      "[182]\tvalidation_0-logloss:0.01294\tvalidation_1-logloss:0.26040\n",
      "[183]\tvalidation_0-logloss:0.01292\tvalidation_1-logloss:0.26016\n",
      "[184]\tvalidation_0-logloss:0.01290\tvalidation_1-logloss:0.25977\n",
      "[185]\tvalidation_0-logloss:0.01288\tvalidation_1-logloss:0.25927\n",
      "[186]\tvalidation_0-logloss:0.01286\tvalidation_1-logloss:0.25951\n",
      "[187]\tvalidation_0-logloss:0.01284\tvalidation_1-logloss:0.25943\n",
      "[188]\tvalidation_0-logloss:0.01283\tvalidation_1-logloss:0.25921\n",
      "[189]\tvalidation_0-logloss:0.01282\tvalidation_1-logloss:0.25883\n",
      "오차행렬\n",
      "[[34  3]\n",
      " [ 3 74]]\n",
      "정확도: 0.9474, 정밀도: 0.9610, 재현율: 0.9610, F1: 0.9610, AUC: 0.9923\n"
     ]
    }
   ],
   "source": [
    "xgb_wrapper = XGBClassifier(n_estimators=400, learning_rate=round(best['learning_rate'], 5),\n",
    "                            max_depth=int(best['max_depth']), min_child_weight=int(best['min_child_weight']),\n",
    "                            colsample_bytree=round(best['colsample_bytree'], 5)\n",
    "                           )\n",
    "\n",
    "evals = [(X_tr, y_tr), (X_val, y_val)]\n",
    "xgb_wrapper.fit(X_tr, y_tr, early_stopping_rounds=50, eval_metric='logloss',\n",
    "               eval_set=evals, verbose=True)\n",
    "\n",
    "preds = xgb_wrapper.predict(X_test)\n",
    "pred_proba = xgb_wrapper.predict_proba(X_test)[:, 1]\n",
    "\n",
    "get_clf_eval(y_test, preds, pred_proba)"
   ]
  },
  {
   "cell_type": "code",
   "execution_count": null,
   "id": "099522a4-9424-4c45-a330-0e62ef7f70ab",
   "metadata": {},
   "outputs": [],
   "source": []
  }
 ],
 "metadata": {
  "kernelspec": {
   "display_name": "Python 3 (ipykernel)",
   "language": "python",
   "name": "python3"
  },
  "language_info": {
   "codemirror_mode": {
    "name": "ipython",
    "version": 3
   },
   "file_extension": ".py",
   "mimetype": "text/x-python",
   "name": "python",
   "nbconvert_exporter": "python",
   "pygments_lexer": "ipython3",
   "version": "3.9.7"
  }
 },
 "nbformat": 4,
 "nbformat_minor": 5
}
