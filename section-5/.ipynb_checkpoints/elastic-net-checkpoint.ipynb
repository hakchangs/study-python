{
 "cells": [
  {
   "cell_type": "markdown",
   "id": "b632f006-b5c5-4a22-8367-d81c1d8ad0ab",
   "metadata": {},
   "source": [
    "# 엘라스틱넷 (Elastic Net)\n",
    "\n",
    "- L1, L2 규제를 결합한 선형모델\n",
    "- 비용함수 = $RSS(W) + alpha2 * ||W||_2^2 + alpha1 * ||W||_1$\n"
   ]
  },
  {
   "cell_type": "code",
   "execution_count": 1,
   "id": "0c4fe9dd-0bdc-4aa1-8267-2f58fb6e1cc4",
   "metadata": {},
   "outputs": [],
   "source": [
    "import numpy as np\n",
    "import pandas as pd\n",
    "import matplotlib.pyplot as plt\n",
    "import seaborn as sns\n",
    "import warnings\n",
    "warnings.filterwarnings('ignore')\n",
    "%matplotlib inline"
   ]
  },
  {
   "cell_type": "markdown",
   "id": "70bdabb8-336c-4eba-bdc8-34b57c642b77",
   "metadata": {},
   "source": [
    "### 보스턴 주택가격 예측"
   ]
  },
  {
   "cell_type": "code",
   "execution_count": 2,
   "id": "bb918cb6-f156-4b5a-bdca-2f4bfcb72e68",
   "metadata": {},
   "outputs": [],
   "source": [
    "from sklearn.datasets import load_boston\n",
    "from sklearn.linear_model import ElasticNet\n",
    "from sklearn.model_selection import cross_val_score"
   ]
  },
  {
   "cell_type": "code",
   "execution_count": 3,
   "id": "d0f70a45-6505-4065-a258-85c436788eac",
   "metadata": {},
   "outputs": [
    {
     "name": "stdout",
     "output_type": "stream",
     "text": [
      "5 folds 의 개별 Negative MSE scores: [-26.796 -44.347 -78.799 -60.676 -16.344]\n",
      "5 folds 의 개별 RMSE scores: [5.177 6.659 8.877 7.789 4.043]\n",
      "5 folds 의 평균 RMSE: 6.509\n"
     ]
    }
   ],
   "source": [
    "boston = load_boston()\n",
    "boston_df = pd.DataFrame(boston.data, columns=boston.feature_names)\n",
    "boston_df['PRICE'] = boston.target\n",
    "\n",
    "X_data = boston_df.drop(['PRICE'], axis=1, inplace=False)\n",
    "y_target = boston_df['PRICE']\n",
    "\n",
    "elastic = ElasticNet(alpha=10, l1_ratio=0.7)\n",
    "neg_mse_scores = cross_val_score(elastic, X_data, y_target, scoring='neg_mean_squared_error', cv=5)\n",
    "rmse_scores = np.sqrt(-1 * neg_mse_scores)\n",
    "avg_rmse = np.mean(rmse_scores)\n",
    "\n",
    "print('5 folds 의 개별 Negative MSE scores:', np.round(neg_mse_scores, 3))\n",
    "print('5 folds 의 개별 RMSE scores:', np.round(rmse_scores, 3))\n",
    "print('5 folds 의 평균 RMSE: {0:.3f}'.format(avg_rmse))"
   ]
  },
  {
   "cell_type": "markdown",
   "id": "998fb582-f470-430e-be99-418d2449ddd3",
   "metadata": {},
   "source": [
    "#### alpha 값을 0, 0.1, 1, 10, 100 으로 변경하며 RMSE 측정"
   ]
  },
  {
   "cell_type": "code",
   "execution_count": 4,
   "id": "2f168dd2-b5b3-4fe4-8c5b-eea62ce78248",
   "metadata": {},
   "outputs": [
    {
     "name": "stdout",
     "output_type": "stream",
     "text": [
      "alpha 0.07 일때 5 folds 의 평균 RMSE: 5.542\n",
      "alpha 0.1 일때 5 folds 의 평균 RMSE: 5.526\n",
      "alpha 0.5 일때 5 folds 의 평균 RMSE: 5.467\n",
      "alpha 1 일때 5 folds 의 평균 RMSE: 5.597\n",
      "alpha 3 일때 5 folds 의 평균 RMSE: 6.068\n"
     ]
    }
   ],
   "source": [
    "alphas = [0.07, 0.1, 0.5, 1, 3]\n",
    "\n",
    "for alpha in alphas:\n",
    "    elastic = ElasticNet(alpha=alpha, l1_ratio=0.7)\n",
    "    \n",
    "    neg_mse_scores = cross_val_score(elastic, X_data, y_target, scoring='neg_mean_squared_error', cv=5)\n",
    "    avg_rmse = np.mean(np.sqrt(-1 * neg_mse_scores))\n",
    "    \n",
    "    print('alpha {0} 일때 5 folds 의 평균 RMSE: {1:.3f}'.format(alpha, avg_rmse))"
   ]
  },
  {
   "cell_type": "markdown",
   "id": "4d3907d8-b8bc-47bf-a564-26be43aafead",
   "metadata": {},
   "source": [
    "#### alpha 에 따른 회귀계수 값을 시각화"
   ]
  },
  {
   "cell_type": "code",
   "execution_count": 5,
   "id": "5ebfeb27-206c-49fd-a503-cc9e950acd6c",
   "metadata": {},
   "outputs": [
    {
     "data": {
      "image/png": "[encoded data removed]",
      "text/plain": [
       "<Figure size 1296x432 with 5 Axes>"
      ]
     },
     "metadata": {
      "needs_background": "light"
     },
     "output_type": "display_data"
    }
   ],
   "source": [
    "fig, axs = plt.subplots(figsize=(18, 6), nrows=1, ncols=5)\n",
    "coef_df = pd.DataFrame()\n",
    "\n",
    "for pos, alpha in enumerate(alphas):\n",
    "    elastic = ElasticNet(alpha=alpha, l1_ratio=0.7)\n",
    "    elastic.fit(X_data, y_target)\n",
    "    coef = pd.Series(data=elastic.coef_, index=X_data.columns)\n",
    "    colname = 'alpha:' + str(alpha)\n",
    "    coef_df[colname] = coef\n",
    "    coef = coef.sort_values(ascending=False)\n",
    "    axs[pos].set_title(colname)\n",
    "    axs[pos].set_xlim(-3, 6)\n",
    "    sns.barplot(x=coef.values, y=coef.index, ax=axs[pos])\n",
    "\n",
    "plt.show()"
   ]
  },
  {
   "cell_type": "markdown",
   "id": "a5156b96-973e-422d-ac77-7b52ddd1f1d6",
   "metadata": {},
   "source": [
    "#### alpha 에 따른 컬럼별 회귀계수 출력"
   ]
  },
  {
   "cell_type": "code",
   "execution_count": 6,
   "id": "6854e90e-11fe-4724-bc06-efd88b434f14",
   "metadata": {},
   "outputs": [
    {
     "data": {
      "text/html": [
       "<div>\n",
       "<style scoped>\n",
       "    .dataframe tbody tr th:only-of-type {\n",
       "        vertical-align: middle;\n",
       "    }\n",
       "\n",
       "    .dataframe tbody tr th {\n",
       "        vertical-align: top;\n",
       "    }\n",
       "\n",
       "    .dataframe thead th {\n",
       "        text-align: right;\n",
       "    }\n",
       "</style>\n",
       "<table border=\"1\" class=\"dataframe\">\n",
       "  <thead>\n",
       "    <tr style=\"text-align: right;\">\n",
       "      <th></th>\n",
       "      <th>alpha:0.07</th>\n",
       "      <th>alpha:0.1</th>\n",
       "      <th>alpha:0.5</th>\n",
       "      <th>alpha:1</th>\n",
       "      <th>alpha:3</th>\n",
       "    </tr>\n",
       "  </thead>\n",
       "  <tbody>\n",
       "    <tr>\n",
       "      <th>RM</th>\n",
       "      <td>3.574162</td>\n",
       "      <td>3.414154</td>\n",
       "      <td>1.918419</td>\n",
       "      <td>0.938789</td>\n",
       "      <td>0.000000</td>\n",
       "    </tr>\n",
       "    <tr>\n",
       "      <th>CHAS</th>\n",
       "      <td>1.330724</td>\n",
       "      <td>0.979706</td>\n",
       "      <td>0.000000</td>\n",
       "      <td>0.000000</td>\n",
       "      <td>0.000000</td>\n",
       "    </tr>\n",
       "    <tr>\n",
       "      <th>RAD</th>\n",
       "      <td>0.278880</td>\n",
       "      <td>0.283443</td>\n",
       "      <td>0.300761</td>\n",
       "      <td>0.289299</td>\n",
       "      <td>0.146846</td>\n",
       "    </tr>\n",
       "    <tr>\n",
       "      <th>ZN</th>\n",
       "      <td>0.050107</td>\n",
       "      <td>0.050617</td>\n",
       "      <td>0.052878</td>\n",
       "      <td>0.052136</td>\n",
       "      <td>0.038268</td>\n",
       "    </tr>\n",
       "    <tr>\n",
       "      <th>B</th>\n",
       "      <td>0.010122</td>\n",
       "      <td>0.010067</td>\n",
       "      <td>0.009114</td>\n",
       "      <td>0.008320</td>\n",
       "      <td>0.007020</td>\n",
       "    </tr>\n",
       "    <tr>\n",
       "      <th>AGE</th>\n",
       "      <td>-0.010116</td>\n",
       "      <td>-0.008276</td>\n",
       "      <td>0.007760</td>\n",
       "      <td>0.020348</td>\n",
       "      <td>0.043446</td>\n",
       "    </tr>\n",
       "    <tr>\n",
       "      <th>TAX</th>\n",
       "      <td>-0.014522</td>\n",
       "      <td>-0.014814</td>\n",
       "      <td>-0.016046</td>\n",
       "      <td>-0.016218</td>\n",
       "      <td>-0.011417</td>\n",
       "    </tr>\n",
       "    <tr>\n",
       "      <th>INDUS</th>\n",
       "      <td>-0.044855</td>\n",
       "      <td>-0.042719</td>\n",
       "      <td>-0.023252</td>\n",
       "      <td>-0.000000</td>\n",
       "      <td>-0.000000</td>\n",
       "    </tr>\n",
       "    <tr>\n",
       "      <th>CRIM</th>\n",
       "      <td>-0.099468</td>\n",
       "      <td>-0.099213</td>\n",
       "      <td>-0.089070</td>\n",
       "      <td>-0.073577</td>\n",
       "      <td>-0.019058</td>\n",
       "    </tr>\n",
       "    <tr>\n",
       "      <th>NOX</th>\n",
       "      <td>-0.175072</td>\n",
       "      <td>-0.000000</td>\n",
       "      <td>-0.000000</td>\n",
       "      <td>-0.000000</td>\n",
       "      <td>-0.000000</td>\n",
       "    </tr>\n",
       "    <tr>\n",
       "      <th>LSTAT</th>\n",
       "      <td>-0.574822</td>\n",
       "      <td>-0.587702</td>\n",
       "      <td>-0.693861</td>\n",
       "      <td>-0.760457</td>\n",
       "      <td>-0.800368</td>\n",
       "    </tr>\n",
       "    <tr>\n",
       "      <th>PTRATIO</th>\n",
       "      <td>-0.779498</td>\n",
       "      <td>-0.784725</td>\n",
       "      <td>-0.790969</td>\n",
       "      <td>-0.738672</td>\n",
       "      <td>-0.423065</td>\n",
       "    </tr>\n",
       "    <tr>\n",
       "      <th>DIS</th>\n",
       "      <td>-1.189438</td>\n",
       "      <td>-1.173647</td>\n",
       "      <td>-0.975902</td>\n",
       "      <td>-0.725174</td>\n",
       "      <td>-0.031208</td>\n",
       "    </tr>\n",
       "  </tbody>\n",
       "</table>\n",
       "</div>"
      ],
      "text/plain": [
       "         alpha:0.07  alpha:0.1  alpha:0.5   alpha:1   alpha:3\n",
       "RM         3.574162   3.414154   1.918419  0.938789  0.000000\n",
       "CHAS       1.330724   0.979706   0.000000  0.000000  0.000000\n",
       "RAD        0.278880   0.283443   0.300761  0.289299  0.146846\n",
       "ZN         0.050107   0.050617   0.052878  0.052136  0.038268\n",
       "B          0.010122   0.010067   0.009114  0.008320  0.007020\n",
       "AGE       -0.010116  -0.008276   0.007760  0.020348  0.043446\n",
       "TAX       -0.014522  -0.014814  -0.016046 -0.016218 -0.011417\n",
       "INDUS     -0.044855  -0.042719  -0.023252 -0.000000 -0.000000\n",
       "CRIM      -0.099468  -0.099213  -0.089070 -0.073577 -0.019058\n",
       "NOX       -0.175072  -0.000000  -0.000000 -0.000000 -0.000000\n",
       "LSTAT     -0.574822  -0.587702  -0.693861 -0.760457 -0.800368\n",
       "PTRATIO   -0.779498  -0.784725  -0.790969 -0.738672 -0.423065\n",
       "DIS       -1.189438  -1.173647  -0.975902 -0.725174 -0.031208"
      ]
     },
     "execution_count": 6,
     "metadata": {},
     "output_type": "execute_result"
    }
   ],
   "source": [
    "sort_column = 'alpha:' + str(alphas[0])\n",
    "coef_df.sort_values(by=sort_column, ascending=False)"
   ]
  },
  {
   "cell_type": "markdown",
   "id": "5d6eee20-e68f-41ed-9bef-25584be76074",
   "metadata": {},
   "source": [
    "#### 공통모듈을 만들어 처리"
   ]
  },
  {
   "cell_type": "code",
   "execution_count": 7,
   "id": "b70205d6-f709-447e-bd47-5d81cb04d91e",
   "metadata": {},
   "outputs": [],
   "source": [
    "from modules.evaluation import get_linear_reg_eval"
   ]
  },
  {
   "cell_type": "code",
   "execution_count": 8,
   "id": "3d841473-d27d-443e-89d6-584f30239ae7",
   "metadata": {},
   "outputs": [
    {
     "name": "stdout",
     "output_type": "stream",
     "text": [
      "######  ElasticNet ######\n",
      "alpha 0.07 일때 5 폴드세트의 평균 RMSE: 5.542\n",
      "alpha 0.1 일때 5 폴드세트의 평균 RMSE: 5.526\n",
      "alpha 0.5 일때 5 폴드세트의 평균 RMSE: 5.467\n",
      "alpha 1 일때 5 폴드세트의 평균 RMSE: 5.597\n",
      "alpha 3 일때 5 폴드세트의 평균 RMSE: 6.068\n"
     ]
    }
   ],
   "source": [
    "elastic_alphas = [0.07, 0.1, 0.5, 1, 3]\n",
    "coef_elastic_df = get_linear_reg_eval('ElasticNet', params=elastic_alphas, X_data_n=X_data, y_target_n=y_target)"
   ]
  },
  {
   "cell_type": "code",
   "execution_count": null,
   "id": "e0f27915-3454-4307-9173-86fe29cdaead",
   "metadata": {},
   "outputs": [],
   "source": []
  }
 ],
 "metadata": {
  "kernelspec": {
   "display_name": "Python 3 (ipykernel)",
   "language": "python",
   "name": "python3"
  },
  "language_info": {
   "codemirror_mode": {
    "name": "ipython",
    "version": 3
   },
   "file_extension": ".py",
   "mimetype": "text/x-python",
   "name": "python",
   "nbconvert_exporter": "python",
   "pygments_lexer": "ipython3",
   "version": "3.9.7"
  }
 },
 "nbformat": 4,
 "nbformat_minor": 5
}
