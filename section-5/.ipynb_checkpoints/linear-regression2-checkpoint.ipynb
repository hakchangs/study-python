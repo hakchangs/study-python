{
 "cells": [
  {
   "cell_type": "markdown",
   "id": "11ad17c6-27af-4e63-8e4e-b1dc135333fd",
   "metadata": {},
   "source": [
    "# 다항회귀\n",
    "\n",
    "- 독립변수의 갯수를 여러개두어 2차, 3차 방정식으로 모델 생성\n",
    "- $y = w_0 + w_1x_1 + w_2x_2 + w_3x_1x_2 + w_4x_1^2 + w_5x_2^2$\n",
    "- 단순회귀보다 예측성능이 좋아질수 있음\n",
    "- 단순회귀, 다항회귀 모두 선형회귀의 일종임\n",
    "\n",
    "## 다항회귀 전개식\n",
    "\n",
    "- 1차 단항 피처들의 값이 $[x_1, x_2] = [0, 1]$ 일 경우\n",
    "- 2차 다항 피처들의 값은 $[1, x_1=0, x_2=1, x_1x_2=0, x_1^2=0, x_2^2=1]$\n",
    "\n",
    "## 구현\n",
    "\n",
    "- 사이킷런은 다항회귀 api 를 제공하지 않음\n",
    "- `PolynomialFeatures` 로 피처들을 변환한뒤, `LinearRegression` 을 순차적으로 적용해야함\n",
    "- `Pipeline` 을 이용하면 두가지 api 결합을 좀더 깔끔하게 수행가능함\n"
   ]
  },
  {
   "cell_type": "code",
   "execution_count": 1,
   "id": "f2601b94-80e7-4b92-8579-379ba2661f99",
   "metadata": {},
   "outputs": [],
   "source": [
    "from sklearn.preprocessing import PolynomialFeatures\n",
    "import numpy as np"
   ]
  },
  {
   "cell_type": "code",
   "execution_count": 2,
   "id": "0796d894-d849-4327-9627-c64ef8ff1854",
   "metadata": {},
   "outputs": [
    {
     "name": "stdout",
     "output_type": "stream",
     "text": [
      "일차 단항식 계수 feature:\n",
      " [[0 1]\n",
      " [2 3]]\n",
      "변환된 2차 다항식 계수 feature:\n",
      " [[1. 0. 1. 0. 0. 1.]\n",
      " [1. 2. 3. 4. 6. 9.]]\n"
     ]
    }
   ],
   "source": [
    "X = np.arange(4).reshape(2, 2)\n",
    "print('일차 단항식 계수 feature:\\n', X)\n",
    "\n",
    "poly = PolynomialFeatures(degree=2)\n",
    "poly.fit(X)\n",
    "poly_ftr = poly.transform(X)\n",
    "print('변환된 2차 다항식 계수 feature:\\n', poly_ftr)"
   ]
  },
  {
   "cell_type": "code",
   "execution_count": 3,
   "id": "b0bedf18-e616-4d92-8e59-7eb3ca376f26",
   "metadata": {},
   "outputs": [],
   "source": [
    "def polynomial_func(X):\n",
    "    y = 1 + 2 * X[:, 0] + 3 * X[:, 0]**2 + 4 * X[:, 1]**3\n",
    "    return y"
   ]
  },
  {
   "cell_type": "code",
   "execution_count": 4,
   "id": "923f3645-4e17-452c-bf94-d8a795358ac6",
   "metadata": {},
   "outputs": [],
   "source": [
    "from sklearn.model_selection import train_test_split\n",
    "from sklearn.linear_model import LinearRegression\n",
    "from sklearn.metrics import mean_squared_error, r2_score"
   ]
  },
  {
   "cell_type": "code",
   "execution_count": 5,
   "id": "fc4e0b13-2df0-4b3a-aa1c-0f0c4b99ea91",
   "metadata": {},
   "outputs": [
    {
     "name": "stdout",
     "output_type": "stream",
     "text": [
      "일차 단항식 계수 feature:\n",
      " [[0 1]\n",
      " [2 3]]\n",
      "삼차 다항식 결정값:\n",
      " [  5 125]\n",
      "3차 다항식 계수 feature:\n",
      " [[ 1.  0.  1.  0.  0.  1.  0.  0.  0.  1.]\n",
      " [ 1.  2.  3.  4.  6.  9.  8. 12. 18. 27.]]\n",
      "Polynomial 회귀 계수\n",
      " [0.   0.18 0.18 0.36 0.54 0.72 0.72 1.08 1.62 2.34]\n",
      "Polynomial 회귀 Shape: (10,)\n"
     ]
    }
   ],
   "source": [
    "X = np.arange(0, 4).reshape(2, 2)\n",
    "print('일차 단항식 계수 feature:\\n', X)\n",
    "\n",
    "y = polynomial_func(X)\n",
    "print('삼차 다항식 결정값:\\n', y)\n",
    "\n",
    "poly_ftr = PolynomialFeatures(degree=3).fit_transform(X)\n",
    "print('3차 다항식 계수 feature:\\n', poly_ftr)\n",
    "\n",
    "model = LinearRegression()\n",
    "model.fit(poly_ftr, y)\n",
    "print('Polynomial 회귀 계수\\n', np.round(model.coef_, 2))\n",
    "print('Polynomial 회귀 Shape:', model.coef_.shape)"
   ]
  },
  {
   "cell_type": "code",
   "execution_count": 7,
   "id": "4a374fbd-ca84-4b2b-8cc2-20ddd529400a",
   "metadata": {},
   "outputs": [
    {
     "name": "stdout",
     "output_type": "stream",
     "text": [
      "3차 다항식 계수 feature:\n",
      " [[ 1.  0.  1.  0.  0.  1.  0.  0.  0.  1.]\n",
      " [ 1.  2.  3.  4.  6.  9.  8. 12. 18. 27.]]\n",
      "Polynomial 회귀 계수\n",
      " [0.   0.18 0.18 0.36 0.54 0.72 0.72 1.08 1.62 2.34]\n",
      "Polynomial 회귀 Shape: (10,)\n"
     ]
    }
   ],
   "source": [
    "poly_ftr = PolynomialFeatures(degree=3).fit_transform(X)\n",
    "print('3차 다항식 계수 feature:\\n', poly_ftr)\n",
    "\n",
    "model = LinearRegression()\n",
    "model.fit(poly_ftr, y)\n",
    "print('Polynomial 회귀 계수\\n', np.round(model.coef_, 2))\n",
    "print('Polynomial 회귀 Shape:', model.coef_.shape)"
   ]
  },
  {
   "cell_type": "markdown",
   "id": "4acf11f2-a725-45d7-8115-1c135056a62c",
   "metadata": {},
   "source": [
    "### 파이프라인을 이용하여 학습"
   ]
  },
  {
   "cell_type": "code",
   "execution_count": 8,
   "id": "8f18c82c-2cb7-4d21-aee7-4699e8841723",
   "metadata": {},
   "outputs": [],
   "source": [
    "from sklearn.pipeline import Pipeline\n",
    "import numpy as np"
   ]
  },
  {
   "cell_type": "code",
   "execution_count": 9,
   "id": "a3da1e38-ab3d-4214-a7a9-86430c5d1669",
   "metadata": {},
   "outputs": [
    {
     "name": "stdout",
     "output_type": "stream",
     "text": [
      "Polynomial 회귀 계수\n",
      " [0.   0.18 0.18 0.36 0.54 0.72 0.72 1.08 1.62 2.34]\n"
     ]
    }
   ],
   "source": [
    "model = Pipeline([('poly', PolynomialFeatures(degree=3)),\n",
    "                 ('linear', LinearRegression())])\n",
    "X = np.arange(4).reshape(2, 2)\n",
    "y = polynomial_func(X)\n",
    "\n",
    "model = model.fit(X, y)\n",
    "print('Polynomial 회귀 계수\\n', np.round(model.named_steps['linear'].coef_, 2))"
   ]
  },
  {
   "cell_type": "markdown",
   "id": "88aab81a-341a-4de3-951d-25e2560fef61",
   "metadata": {},
   "source": [
    "## 보스턴 주택가격 예측"
   ]
  },
  {
   "cell_type": "code",
   "execution_count": 10,
   "id": "9290f7bc-c0a6-4f9c-8f53-d3ae060a4326",
   "metadata": {},
   "outputs": [],
   "source": [
    "import numpy as np\n",
    "import matplotlib.pyplot as plt\n",
    "import pandas as pd\n",
    "import seaborn as sns\n",
    "\n",
    "from sklearn.datasets import load_boston\n",
    "import warnings\n",
    "warnings.filterwarnings('ignore')\n",
    "%matplotlib inline"
   ]
  },
  {
   "cell_type": "code",
   "execution_count": 13,
   "id": "d62d91ea-24b3-442f-bc41-1cbf53fd140f",
   "metadata": {},
   "outputs": [
    {
     "name": "stdout",
     "output_type": "stream",
     "text": [
      "Boston 데이터셋 크기: (506, 14)\n",
      "MSE: 15.556, RMSE: 3.944\n",
      "Variance score: 0.782\n"
     ]
    }
   ],
   "source": [
    "boston = load_boston()\n",
    "bostonDF = pd.DataFrame(boston.data, columns=boston.feature_names)\n",
    "bostonDF['PRICE'] = boston.target\n",
    "print('Boston 데이터셋 크기:', bostonDF.shape)\n",
    "\n",
    "y_target = bostonDF['PRICE']\n",
    "X_data = bostonDF.drop(['PRICE'], axis=1, inplace=False)\n",
    "X_train, X_test, y_train, y_test = train_test_split(X_data, y_target, test_size=0.3, random_state=156)\n",
    "\n",
    "p_model = Pipeline([('poly', PolynomialFeatures(degree=2, include_bias=False)),\n",
    "                    ('linear', LinearRegression())])\n",
    "\n",
    "p_model.fit(X_train, y_train)\n",
    "y_preds = p_model.predict(X_test)\n",
    "mse = mean_squared_error(y_test, y_preds)\n",
    "rmse = np.sqrt(mse)\n",
    "\n",
    "print('MSE: {0:.3f}, RMSE: {1:.3f}'.format(mse, rmse))\n",
    "print('Variance score: {0:.3f}'.format(r2_score(y_test, y_preds)))"
   ]
  },
  {
   "cell_type": "code",
   "execution_count": null,
   "id": "7908e8e3-b49c-4e72-9365-9fcff9ce4069",
   "metadata": {},
   "outputs": [],
   "source": []
  }
 ],
 "metadata": {
  "kernelspec": {
   "display_name": "Python 3 (ipykernel)",
   "language": "python",
   "name": "python3"
  },
  "language_info": {
   "codemirror_mode": {
    "name": "ipython",
    "version": 3
   },
   "file_extension": ".py",
   "mimetype": "text/x-python",
   "name": "python",
   "nbconvert_exporter": "python",
   "pygments_lexer": "ipython3",
   "version": "3.9.7"
  }
 },
 "nbformat": 4,
 "nbformat_minor": 5
}
