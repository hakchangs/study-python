{
 "cells": [
  {
   "cell_type": "markdown",
   "id": "601b7b12-8f9e-4147-8e80-1121add0b642",
   "metadata": {},
   "source": [
    "# 로지스틱 회귀\n",
    "- 분류를 위한 알고리즘 (연속형이 아닌 범주형 예측)\n",
    "- 시그모이드 함수의 최적선을 찾고, 함수의 반환값으로 분류를 결정\n",
    "- 주로 이진분류에 사용됨\n",
    "- 예측확률이 0.5 이상이면 1로, 0.5 이하이면 0으로 예측함\n",
    "\n",
    "## 하이퍼 파라미터\n",
    "- solver 지정가능: lbfgs, liblinear, newton-cg, sag, saga\n",
    "- penalty: 규제유형. L1, L2 설정가능\n",
    "- C: 규제강도 조절 (C = 1 / alpha)\n",
    "\n",
    "## 시그모이드 함수\n",
    "$f(x) =$ $1\\over 1+e^{-x}$\n",
    "\n",
    "<img alt=\"시그모이드 곡선\" src=\"./images/sigmoid.png\" width=\"300px\">\n"
   ]
  },
  {
   "cell_type": "markdown",
   "id": "4128a943-a594-4212-92b4-db1ca9262df8",
   "metadata": {},
   "source": [
    "### 위스콘신 유방암 예측"
   ]
  },
  {
   "cell_type": "code",
   "execution_count": 2,
   "id": "b276da3e-a64d-4ead-a589-c72908627943",
   "metadata": {},
   "outputs": [],
   "source": [
    "import pandas as pd\n",
    "import matplotlib.pyplot as plt\n",
    "%matplotlib inline\n",
    "\n",
    "from sklearn.datasets import load_breast_cancer\n",
    "from sklearn.linear_model import LogisticRegression"
   ]
  },
  {
   "cell_type": "code",
   "execution_count": 3,
   "id": "59d0bab2-541c-46b2-8b10-cbbc99835338",
   "metadata": {},
   "outputs": [],
   "source": [
    "cancer = load_breast_cancer()"
   ]
  },
  {
   "cell_type": "code",
   "execution_count": 4,
   "id": "a0d4d5f3-d2ec-4b43-9a31-735bfe41734a",
   "metadata": {},
   "outputs": [],
   "source": [
    "from sklearn.preprocessing import StandardScaler\n",
    "from sklearn.model_selection import train_test_split"
   ]
  },
  {
   "cell_type": "code",
   "execution_count": 5,
   "id": "36cbbf30-996b-4b1b-94f1-a13294f09d96",
   "metadata": {},
   "outputs": [],
   "source": [
    "scaler = StandardScaler()\n",
    "data_scaled = scaler.fit_transform(cancer.data)\n",
    "\n",
    "X_train, X_test, y_train, y_test = train_test_split(data_scaled, cancer.target, test_size=0.3, random_state=0)"
   ]
  },
  {
   "cell_type": "code",
   "execution_count": 6,
   "id": "73f38f4a-1104-4069-8a91-5f305afb2394",
   "metadata": {},
   "outputs": [],
   "source": [
    "from sklearn.metrics import accuracy_score, roc_auc_score"
   ]
  },
  {
   "cell_type": "code",
   "execution_count": 7,
   "id": "5068e56f-7f2c-4a93-bfa8-8a6e6ef3c125",
   "metadata": {},
   "outputs": [
    {
     "name": "stdout",
     "output_type": "stream",
     "text": [
      "accuracy: 0.977, roc_auc: 0.972\n"
     ]
    }
   ],
   "source": [
    "lr_clf = LogisticRegression()\n",
    "lr_clf.fit(X_train, y_train)\n",
    "lr_preds = lr_clf.predict(X_test)\n",
    "\n",
    "print('accuracy: {0:.3f}, roc_auc: {1:.3f}'.format(accuracy_score(y_test, lr_preds),\n",
    "                                                   roc_auc_score(y_test, lr_preds)))"
   ]
  },
  {
   "cell_type": "markdown",
   "id": "2140e5c8-770e-4e4b-9e69-19a7637977bf",
   "metadata": {},
   "source": [
    "#### Solver 를 변환하면서 예측"
   ]
  },
  {
   "cell_type": "code",
   "execution_count": 8,
   "id": "813dd532-da1e-4ed3-96a0-61033f9f2667",
   "metadata": {},
   "outputs": [
    {
     "name": "stdout",
     "output_type": "stream",
     "text": [
      "solver: lbfgs, accuracy: 0.977, roc_auc: 0.972\n",
      "solver: liblinear, accuracy: 0.982, roc_auc: 0.979\n",
      "solver: newton-cg, accuracy: 0.977, roc_auc: 0.972\n",
      "solver: sag, accuracy: 0.982, roc_auc: 0.979\n",
      "solver: saga, accuracy: 0.982, roc_auc: 0.979\n"
     ]
    }
   ],
   "source": [
    "solvers = ['lbfgs', 'liblinear', 'newton-cg', 'sag', 'saga']\n",
    "\n",
    "for solver in solvers:\n",
    "    lr_clf = LogisticRegression(solver=solver, max_iter=600)\n",
    "    lr_clf.fit(X_train, y_train)\n",
    "    lr_preds = lr_clf.predict(X_test)\n",
    "    \n",
    "    print('solver: {0}, accuracy: {1:.3f}, roc_auc: {2:.3f}'.format(solver,\n",
    "                                                                    accuracy_score(y_test, lr_preds),\n",
    "                                                                    roc_auc_score(y_test, lr_preds)))"
   ]
  },
  {
   "cell_type": "markdown",
   "id": "72d097cb-7eb5-4fac-8467-8cce94f29af7",
   "metadata": {},
   "source": [
    "#### GridSearchCV 로 최적파라미터 구하기"
   ]
  },
  {
   "cell_type": "code",
   "execution_count": 9,
   "id": "ab4f5f32-c5ae-488d-b717-253f72c0bf52",
   "metadata": {},
   "outputs": [],
   "source": [
    "from sklearn.model_selection import GridSearchCV"
   ]
  },
  {
   "cell_type": "code",
   "execution_count": 10,
   "id": "3b30bcba-046b-4e24-be78-8cc146a4cf91",
   "metadata": {},
   "outputs": [
    {
     "name": "stdout",
     "output_type": "stream",
     "text": [
      "최적 하이퍼 파라미터: {'C': 0.1, 'penalty': 'l2', 'solver': 'liblinear'}, 최적 평균 정확도: 0.979\n"
     ]
    },
    {
     "name": "stderr",
     "output_type": "stream",
     "text": [
      "/Users/hakchangs/opt/anaconda3/lib/python3.9/site-packages/sklearn/model_selection/_validation.py:372: FitFailedWarning: \n",
      "18 fits failed out of a total of 72.\n",
      "The score on these train-test partitions for these parameters will be set to nan.\n",
      "If these failures are not expected, you can try to debug them by setting error_score='raise'.\n",
      "\n",
      "Below are more details about the failures:\n",
      "--------------------------------------------------------------------------------\n",
      "18 fits failed with the following error:\n",
      "Traceback (most recent call last):\n",
      "  File \"/Users/hakchangs/opt/anaconda3/lib/python3.9/site-packages/sklearn/model_selection/_validation.py\", line 680, in _fit_and_score\n",
      "    estimator.fit(X_train, y_train, **fit_params)\n",
      "  File \"/Users/hakchangs/opt/anaconda3/lib/python3.9/site-packages/sklearn/linear_model/_logistic.py\", line 1461, in fit\n",
      "    solver = _check_solver(self.solver, self.penalty, self.dual)\n",
      "  File \"/Users/hakchangs/opt/anaconda3/lib/python3.9/site-packages/sklearn/linear_model/_logistic.py\", line 447, in _check_solver\n",
      "    raise ValueError(\n",
      "ValueError: Solver lbfgs supports only 'l2' or 'none' penalties, got l1 penalty.\n",
      "\n",
      "  warnings.warn(some_fits_failed_message, FitFailedWarning)\n",
      "/Users/hakchangs/opt/anaconda3/lib/python3.9/site-packages/sklearn/model_selection/_search.py:969: UserWarning: One or more of the test scores are non-finite: [0.96485659 0.94555834 0.92261209        nan 0.97891024 0.97364708\n",
      " 0.96131997        nan 0.97539218 0.97539218 0.96660169        nan\n",
      " 0.97539218 0.97539218 0.96660169        nan 0.97011974 0.97011974\n",
      " 0.96662025        nan 0.96661097 0.96661097 0.96134781        nan]\n",
      "  warnings.warn(\n"
     ]
    }
   ],
   "source": [
    "params = {\n",
    "    'solver': ['liblinear', 'lbfgs'],\n",
    "    'penalty': ['l2', 'l1'],\n",
    "    'C': [0.01, 0.1, 1, 1, 5, 10]\n",
    "}\n",
    "\n",
    "lr_clf = LogisticRegression()\n",
    "\n",
    "grid_clf = GridSearchCV(lr_clf, param_grid=params, scoring='accuracy', cv=3)\n",
    "grid_clf.fit(data_scaled, cancer.target)\n",
    "print('최적 하이퍼 파라미터: {0}, 최적 평균 정확도: {1:.3f}'.format(grid_clf.best_params_,\n",
    "                                                   grid_clf.best_score_))\n"
   ]
  },
  {
   "cell_type": "code",
   "execution_count": null,
   "id": "9561dec9-0589-45ac-b502-eedb7e9d3b20",
   "metadata": {},
   "outputs": [],
   "source": []
  }
 ],
 "metadata": {
  "kernelspec": {
   "display_name": "Python 3 (ipykernel)",
   "language": "python",
   "name": "python3"
  },
  "language_info": {
   "codemirror_mode": {
    "name": "ipython",
    "version": 3
   },
   "file_extension": ".py",
   "mimetype": "text/x-python",
   "name": "python",
   "nbconvert_exporter": "python",
   "pygments_lexer": "ipython3",
   "version": "3.9.7"
  }
 },
 "nbformat": 4,
 "nbformat_minor": 5
}
