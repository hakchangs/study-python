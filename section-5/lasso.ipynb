{
 "cells": [
  {
   "cell_type": "markdown",
   "id": "8fb0999d-258e-4114-a8e6-5a6a95b92531",
   "metadata": {},
   "source": [
    "# 라쏘 (Lasso)\n",
    "\n",
    "- L1 규제를 사용하는 선형모델\n",
    "\n",
    "## L1 규제\n",
    "\n",
    "- 회귀계수 W 에 절대값을 취해 비용함수에 페널티를 부여한다.\n",
    "- 비용함수 = $RSS(W) + alpha * ||W||_1$\n",
    "- 회귀계수 W 의 값을 급격하게 감소시켜 0으로 만들고 제거한다.\n",
    "- 이는 피처 셀렉션의 특성을 갖게한다.\n"
   ]
  },
  {
   "cell_type": "code",
   "execution_count": 1,
   "id": "b782c241-9c75-4443-909c-a8d93036b2c1",
   "metadata": {},
   "outputs": [],
   "source": [
    "import numpy as np\n",
    "import pandas as pd\n",
    "import matplotlib.pyplot as plt\n",
    "import seaborn as sns\n",
    "import warnings\n",
    "warnings.filterwarnings('ignore')\n",
    "%matplotlib inline"
   ]
  },
  {
   "cell_type": "markdown",
   "id": "b7b53636-3eaa-4fda-9c03-4edce00779d7",
   "metadata": {},
   "source": [
    "### 보스턴 주택가격 예측"
   ]
  },
  {
   "cell_type": "code",
   "execution_count": 2,
   "id": "9d7223d6-8808-4211-b7f2-d6240eb9f2de",
   "metadata": {},
   "outputs": [],
   "source": [
    "from sklearn.datasets import load_boston\n",
    "from sklearn.linear_model import Lasso\n",
    "from sklearn.model_selection import cross_val_score"
   ]
  },
  {
   "cell_type": "code",
   "execution_count": 3,
   "id": "d9fc5802-6108-438b-a9ab-57ce240b33f2",
   "metadata": {},
   "outputs": [
    {
     "name": "stdout",
     "output_type": "stream",
     "text": [
      "5 folds 의 개별 Negative MSE scores: [-27.786 -46.397 -80.323 -61.56  -16.302]\n",
      "5 folds 의 개별 RMSE scores: [5.271 6.812 8.962 7.846 4.038]\n",
      "5 folds 의 평균 RMSE: 6.586\n"
     ]
    }
   ],
   "source": [
    "boston = load_boston()\n",
    "boston_df = pd.DataFrame(boston.data, columns=boston.feature_names)\n",
    "boston_df['PRICE'] = boston.target\n",
    "\n",
    "X_data = boston_df.drop(['PRICE'], axis=1, inplace=False)\n",
    "y_target = boston_df['PRICE']\n",
    "\n",
    "lasso = Lasso(alpha=10)\n",
    "neg_mse_scores = cross_val_score(lasso, X_data, y_target, scoring='neg_mean_squared_error', cv=5)\n",
    "rmse_scores = np.sqrt(-1 * neg_mse_scores)\n",
    "avg_rmse = np.mean(rmse_scores)\n",
    "\n",
    "print('5 folds 의 개별 Negative MSE scores:', np.round(neg_mse_scores, 3))\n",
    "print('5 folds 의 개별 RMSE scores:', np.round(rmse_scores, 3))\n",
    "print('5 folds 의 평균 RMSE: {0:.3f}'.format(avg_rmse))"
   ]
  },
  {
   "cell_type": "markdown",
   "id": "e218a23f-af0e-47dc-a70b-33347e45ba33",
   "metadata": {},
   "source": [
    "#### alpha 값을 0, 0.1, 1, 10, 100 으로 변경하며 RMSE 측정"
   ]
  },
  {
   "cell_type": "code",
   "execution_count": 4,
   "id": "83b53aac-db6a-4c38-8578-b3d122bcea9a",
   "metadata": {},
   "outputs": [
    {
     "name": "stdout",
     "output_type": "stream",
     "text": [
      "alpha 0.07 일때 5 folds 의 평균 RMSE: 5.612\n",
      "alpha 0.1 일때 5 folds 의 평균 RMSE: 5.615\n",
      "alpha 0.5 일때 5 folds 의 평균 RMSE: 5.669\n",
      "alpha 1 일때 5 folds 의 평균 RMSE: 5.776\n",
      "alpha 3 일때 5 folds 의 평균 RMSE: 6.189\n"
     ]
    }
   ],
   "source": [
    "alphas = [0.07, 0.1, 0.5, 1, 3]\n",
    "\n",
    "for alpha in alphas:\n",
    "    lasso = Lasso(alpha=alpha)\n",
    "    \n",
    "    neg_mse_scores = cross_val_score(lasso, X_data, y_target, scoring='neg_mean_squared_error', cv=5)\n",
    "    avg_rmse = np.mean(np.sqrt(-1 * neg_mse_scores))\n",
    "    \n",
    "    print('alpha {0} 일때 5 folds 의 평균 RMSE: {1:.3f}'.format(alpha, avg_rmse))"
   ]
  },
  {
   "cell_type": "markdown",
   "id": "c211b260-45aa-4e9f-9ee1-6732b627b9b7",
   "metadata": {},
   "source": [
    "#### alpha 에 따른 회귀계수 값을 시각화"
   ]
  },
  {
   "cell_type": "code",
   "execution_count": 5,
   "id": "f19144d6-6d95-47a7-851a-9523140e64b3",
   "metadata": {},
   "outputs": [
    {
     "data": {
      "image/png": "[encoded data removed]",
      "text/plain": [
       "<Figure size 1296x432 with 5 Axes>"
      ]
     },
     "metadata": {
      "needs_background": "light"
     },
     "output_type": "display_data"
    }
   ],
   "source": [
    "fig, axs = plt.subplots(figsize=(18, 6), nrows=1, ncols=5)\n",
    "coef_df = pd.DataFrame()\n",
    "\n",
    "for pos, alpha in enumerate(alphas):\n",
    "    lasso = Lasso(alpha=alpha)\n",
    "    lasso.fit(X_data, y_target)\n",
    "    coef = pd.Series(data=lasso.coef_, index=X_data.columns)\n",
    "    colname = 'alpha:' + str(alpha)\n",
    "    coef_df[colname] = coef\n",
    "    coef = coef.sort_values(ascending=False)\n",
    "    axs[pos].set_title(colname)\n",
    "    axs[pos].set_xlim(-3, 6)\n",
    "    sns.barplot(x=coef.values, y=coef.index, ax=axs[pos])\n",
    "\n",
    "plt.show()"
   ]
  },
  {
   "cell_type": "markdown",
   "id": "255b9925-e0a1-4237-be49-7fb5b2458b65",
   "metadata": {},
   "source": [
    "#### alpha 에 따른 컬럼별 회귀계수 출력"
   ]
  },
  {
   "cell_type": "code",
   "execution_count": 6,
   "id": "78d8eea6-ac84-4a7e-857f-a3111afba67a",
   "metadata": {},
   "outputs": [
    {
     "data": {
      "text/html": [
       "<div>\n",
       "<style scoped>\n",
       "    .dataframe tbody tr th:only-of-type {\n",
       "        vertical-align: middle;\n",
       "    }\n",
       "\n",
       "    .dataframe tbody tr th {\n",
       "        vertical-align: top;\n",
       "    }\n",
       "\n",
       "    .dataframe thead th {\n",
       "        text-align: right;\n",
       "    }\n",
       "</style>\n",
       "<table border=\"1\" class=\"dataframe\">\n",
       "  <thead>\n",
       "    <tr style=\"text-align: right;\">\n",
       "      <th></th>\n",
       "      <th>alpha:0.07</th>\n",
       "      <th>alpha:0.1</th>\n",
       "      <th>alpha:0.5</th>\n",
       "      <th>alpha:1</th>\n",
       "      <th>alpha:3</th>\n",
       "    </tr>\n",
       "  </thead>\n",
       "  <tbody>\n",
       "    <tr>\n",
       "      <th>RM</th>\n",
       "      <td>3.789725</td>\n",
       "      <td>3.703202</td>\n",
       "      <td>2.498212</td>\n",
       "      <td>0.949811</td>\n",
       "      <td>0.000000</td>\n",
       "    </tr>\n",
       "    <tr>\n",
       "      <th>CHAS</th>\n",
       "      <td>1.434343</td>\n",
       "      <td>0.955190</td>\n",
       "      <td>0.000000</td>\n",
       "      <td>0.000000</td>\n",
       "      <td>0.000000</td>\n",
       "    </tr>\n",
       "    <tr>\n",
       "      <th>RAD</th>\n",
       "      <td>0.270936</td>\n",
       "      <td>0.274707</td>\n",
       "      <td>0.277451</td>\n",
       "      <td>0.264206</td>\n",
       "      <td>0.061864</td>\n",
       "    </tr>\n",
       "    <tr>\n",
       "      <th>ZN</th>\n",
       "      <td>0.049059</td>\n",
       "      <td>0.049211</td>\n",
       "      <td>0.049544</td>\n",
       "      <td>0.049165</td>\n",
       "      <td>0.037231</td>\n",
       "    </tr>\n",
       "    <tr>\n",
       "      <th>B</th>\n",
       "      <td>0.010248</td>\n",
       "      <td>0.010249</td>\n",
       "      <td>0.009469</td>\n",
       "      <td>0.008247</td>\n",
       "      <td>0.006510</td>\n",
       "    </tr>\n",
       "    <tr>\n",
       "      <th>NOX</th>\n",
       "      <td>-0.000000</td>\n",
       "      <td>-0.000000</td>\n",
       "      <td>-0.000000</td>\n",
       "      <td>-0.000000</td>\n",
       "      <td>0.000000</td>\n",
       "    </tr>\n",
       "    <tr>\n",
       "      <th>AGE</th>\n",
       "      <td>-0.011706</td>\n",
       "      <td>-0.010037</td>\n",
       "      <td>0.003604</td>\n",
       "      <td>0.020910</td>\n",
       "      <td>0.042495</td>\n",
       "    </tr>\n",
       "    <tr>\n",
       "      <th>TAX</th>\n",
       "      <td>-0.014290</td>\n",
       "      <td>-0.014570</td>\n",
       "      <td>-0.015442</td>\n",
       "      <td>-0.015212</td>\n",
       "      <td>-0.008602</td>\n",
       "    </tr>\n",
       "    <tr>\n",
       "      <th>INDUS</th>\n",
       "      <td>-0.042120</td>\n",
       "      <td>-0.036619</td>\n",
       "      <td>-0.005253</td>\n",
       "      <td>-0.000000</td>\n",
       "      <td>-0.000000</td>\n",
       "    </tr>\n",
       "    <tr>\n",
       "      <th>CRIM</th>\n",
       "      <td>-0.098193</td>\n",
       "      <td>-0.097894</td>\n",
       "      <td>-0.083289</td>\n",
       "      <td>-0.063437</td>\n",
       "      <td>-0.000000</td>\n",
       "    </tr>\n",
       "    <tr>\n",
       "      <th>LSTAT</th>\n",
       "      <td>-0.560431</td>\n",
       "      <td>-0.568769</td>\n",
       "      <td>-0.656290</td>\n",
       "      <td>-0.761115</td>\n",
       "      <td>-0.807679</td>\n",
       "    </tr>\n",
       "    <tr>\n",
       "      <th>PTRATIO</th>\n",
       "      <td>-0.765107</td>\n",
       "      <td>-0.770654</td>\n",
       "      <td>-0.758752</td>\n",
       "      <td>-0.722966</td>\n",
       "      <td>-0.265072</td>\n",
       "    </tr>\n",
       "    <tr>\n",
       "      <th>DIS</th>\n",
       "      <td>-1.176583</td>\n",
       "      <td>-1.160538</td>\n",
       "      <td>-0.936605</td>\n",
       "      <td>-0.668790</td>\n",
       "      <td>-0.000000</td>\n",
       "    </tr>\n",
       "  </tbody>\n",
       "</table>\n",
       "</div>"
      ],
      "text/plain": [
       "         alpha:0.07  alpha:0.1  alpha:0.5   alpha:1   alpha:3\n",
       "RM         3.789725   3.703202   2.498212  0.949811  0.000000\n",
       "CHAS       1.434343   0.955190   0.000000  0.000000  0.000000\n",
       "RAD        0.270936   0.274707   0.277451  0.264206  0.061864\n",
       "ZN         0.049059   0.049211   0.049544  0.049165  0.037231\n",
       "B          0.010248   0.010249   0.009469  0.008247  0.006510\n",
       "NOX       -0.000000  -0.000000  -0.000000 -0.000000  0.000000\n",
       "AGE       -0.011706  -0.010037   0.003604  0.020910  0.042495\n",
       "TAX       -0.014290  -0.014570  -0.015442 -0.015212 -0.008602\n",
       "INDUS     -0.042120  -0.036619  -0.005253 -0.000000 -0.000000\n",
       "CRIM      -0.098193  -0.097894  -0.083289 -0.063437 -0.000000\n",
       "LSTAT     -0.560431  -0.568769  -0.656290 -0.761115 -0.807679\n",
       "PTRATIO   -0.765107  -0.770654  -0.758752 -0.722966 -0.265072\n",
       "DIS       -1.176583  -1.160538  -0.936605 -0.668790 -0.000000"
      ]
     },
     "execution_count": 6,
     "metadata": {},
     "output_type": "execute_result"
    }
   ],
   "source": [
    "sort_column = 'alpha:' + str(alphas[0])\n",
    "coef_df.sort_values(by=sort_column, ascending=False)"
   ]
  },
  {
   "cell_type": "markdown",
   "id": "22614f9c-a9b8-4411-963f-b058ee017b05",
   "metadata": {},
   "source": [
    "#### 공통모듈을 만들어 처리"
   ]
  },
  {
   "cell_type": "code",
   "execution_count": 7,
   "id": "bc2e3a11-2512-4036-8b7f-931540464e63",
   "metadata": {},
   "outputs": [],
   "source": [
    "from modules.evaluation import get_linear_reg_eval"
   ]
  },
  {
   "cell_type": "code",
   "execution_count": 8,
   "id": "1a5708b5-f713-4156-8841-85d82425fce8",
   "metadata": {},
   "outputs": [
    {
     "name": "stdout",
     "output_type": "stream",
     "text": [
      "######  Lasso ######\n",
      "alpha 0.07 일때 5 폴드세트의 평균 RMSE: 5.612\n",
      "alpha 0.1 일때 5 폴드세트의 평균 RMSE: 5.615\n",
      "alpha 0.5 일때 5 폴드세트의 평균 RMSE: 5.669\n",
      "alpha 1 일때 5 폴드세트의 평균 RMSE: 5.776\n",
      "alpha 3 일때 5 폴드세트의 평균 RMSE: 6.189\n"
     ]
    }
   ],
   "source": [
    "lasso_alphas = [0.07, 0.1, 0.5, 1, 3]\n",
    "coef_lasso_df = get_linear_reg_eval('Lasso', params=lasso_alphas, X_data_n=X_data, y_target_n=y_target)"
   ]
  },
  {
   "cell_type": "code",
   "execution_count": null,
   "id": "636f3efb-1214-4bd4-acb3-21e3e905919b",
   "metadata": {},
   "outputs": [],
   "source": []
  }
 ],
 "metadata": {
  "kernelspec": {
   "display_name": "Python 3 (ipykernel)",
   "language": "python",
   "name": "python3"
  },
  "language_info": {
   "codemirror_mode": {
    "name": "ipython",
    "version": 3
   },
   "file_extension": ".py",
   "mimetype": "text/x-python",
   "name": "python",
   "nbconvert_exporter": "python",
   "pygments_lexer": "ipython3",
   "version": "3.9.7"
  }
 },
 "nbformat": 4,
 "nbformat_minor": 5
}
