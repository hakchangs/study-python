{
 "cells": [
  {
   "cell_type": "markdown",
   "id": "22bc4e7a-783b-45ef-b599-2def4f5de115",
   "metadata": {},
   "source": [
    "# 회귀의 전처리\n",
    "\n",
    "- 통계기반 회귀모델답게 정규분포형태의 데이터를 선호함\n",
    "- 따라서, 타겟/피처 값을 정규분포형태로 만드는 전처리작업이 필요할 수 있음\n"
   ]
  },
  {
   "cell_type": "code",
   "execution_count": 2,
   "id": "398f7d44-b0a3-4061-b83d-16f5a7570daa",
   "metadata": {},
   "outputs": [],
   "source": [
    "import numpy as np\n",
    "import pandas as pd\n",
    "import matplotlib.pyplot as plt\n",
    "import seaborn as sns\n",
    "import warnings\n",
    "warnings.filterwarnings('ignore')\n",
    "%matplotlib inline"
   ]
  },
  {
   "cell_type": "markdown",
   "id": "f965b912-984c-4d70-8484-4f6c4391aa41",
   "metadata": {
    "tags": []
   },
   "source": [
    "### 보스턴 주택가격 예측"
   ]
  },
  {
   "cell_type": "code",
   "execution_count": 3,
   "id": "0b9b4c70-dc0a-4dcd-9381-618d22c0cab4",
   "metadata": {},
   "outputs": [],
   "source": [
    "from sklearn.datasets import load_boston\n",
    "from sklearn.linear_model import Ridge\n",
    "from sklearn.model_selection import cross_val_score"
   ]
  },
  {
   "cell_type": "code",
   "execution_count": 4,
   "id": "916298c4-4192-45c2-8898-5f40ecb92b85",
   "metadata": {},
   "outputs": [],
   "source": [
    "boston = load_boston()\n",
    "boston_df = pd.DataFrame(boston.data, columns=boston.feature_names)\n",
    "boston_df['PRICE'] = boston.target\n",
    "\n",
    "X_data = boston_df.drop(['PRICE'], axis=1, inplace=False)\n",
    "y_target = boston_df['PRICE']"
   ]
  },
  {
   "cell_type": "code",
   "execution_count": 6,
   "id": "4489f4c8-91a4-4b48-afb9-be295e91a369",
   "metadata": {},
   "outputs": [],
   "source": [
    "from modules.preprocessing import get_scaled_data\n",
    "from modules.evaluation import get_linear_reg_eval"
   ]
  },
  {
   "cell_type": "code",
   "execution_count": 8,
   "id": "e6ec5867-ca84-4746-bb73-dca2384671f6",
   "metadata": {},
   "outputs": [
    {
     "name": "stdout",
     "output_type": "stream",
     "text": [
      "\n",
      "## 반환 유형: None, Polynomial Degree: None\n",
      "######  Ridge ######\n",
      "alpha 0.1 일때 5 폴드세트의 평균 RMSE: 5.788\n",
      "alpha 1 일때 5 폴드세트의 평균 RMSE: 5.653\n",
      "alpha 10 일때 5 폴드세트의 평균 RMSE: 5.518\n",
      "alpha 100 일때 5 폴드세트의 평균 RMSE: 5.330\n",
      "\n",
      "## 반환 유형: Standard, Polynomial Degree: None\n",
      "######  Ridge ######\n",
      "alpha 0.1 일때 5 폴드세트의 평균 RMSE: 5.826\n",
      "alpha 1 일때 5 폴드세트의 평균 RMSE: 5.803\n",
      "alpha 10 일때 5 폴드세트의 평균 RMSE: 5.637\n",
      "alpha 100 일때 5 폴드세트의 평균 RMSE: 5.421\n",
      "\n",
      "## 반환 유형: Standard, Polynomial Degree: 2\n",
      "######  Ridge ######\n",
      "alpha 0.1 일때 5 폴드세트의 평균 RMSE: 8.827\n",
      "alpha 1 일때 5 폴드세트의 평균 RMSE: 6.871\n",
      "alpha 10 일때 5 폴드세트의 평균 RMSE: 5.485\n",
      "alpha 100 일때 5 폴드세트의 평균 RMSE: 4.634\n",
      "\n",
      "## 반환 유형: MinMax, Polynomial Degree: None\n",
      "######  Ridge ######\n",
      "alpha 0.1 일때 5 폴드세트의 평균 RMSE: 5.764\n",
      "alpha 1 일때 5 폴드세트의 평균 RMSE: 5.465\n",
      "alpha 10 일때 5 폴드세트의 평균 RMSE: 5.754\n",
      "alpha 100 일때 5 폴드세트의 평균 RMSE: 7.635\n",
      "\n",
      "## 반환 유형: MinMax, Polynomial Degree: 2\n",
      "######  Ridge ######\n",
      "alpha 0.1 일때 5 폴드세트의 평균 RMSE: 5.298\n",
      "alpha 1 일때 5 폴드세트의 평균 RMSE: 4.323\n",
      "alpha 10 일때 5 폴드세트의 평균 RMSE: 5.185\n",
      "alpha 100 일때 5 폴드세트의 평균 RMSE: 6.538\n",
      "\n",
      "## 반환 유형: Log, Polynomial Degree: None\n",
      "######  Ridge ######\n",
      "alpha 0.1 일때 5 폴드세트의 평균 RMSE: 4.770\n",
      "alpha 1 일때 5 폴드세트의 평균 RMSE: 4.676\n",
      "alpha 10 일때 5 폴드세트의 평균 RMSE: 4.836\n",
      "alpha 100 일때 5 폴드세트의 평균 RMSE: 6.241\n"
     ]
    }
   ],
   "source": [
    "alphas = [0.1, 1, 10, 100]\n",
    "\n",
    "scaled_methods = [(None, None), ('Standard', None), ('Standard', 2),\n",
    "               ('MinMax', None), ('MinMax', 2), ('Log', None)]\n",
    "\n",
    "for scaled_method in scaled_methods:\n",
    "    X_data_scaled = get_scaled_data(method=scaled_method[0], p_degree=scaled_method[1], input_data=X_data)\n",
    "    \n",
    "    print('\\n## 반환 유형: {0}, Polynomial Degree: {1}'.format(scaled_method[0], scaled_method[1]))\n",
    "    get_linear_reg_eval('Ridge', params=alphas, X_data_n=X_data_scaled, y_target_n=y_target,\n",
    "                        verbose=True, return_coef=False)\n"
   ]
  }
 ],
 "metadata": {
  "kernelspec": {
   "display_name": "Python 3 (ipykernel)",
   "language": "python",
   "name": "python3"
  },
  "language_info": {
   "codemirror_mode": {
    "name": "ipython",
    "version": 3
   },
   "file_extension": ".py",
   "mimetype": "text/x-python",
   "name": "python",
   "nbconvert_exporter": "python",
   "pygments_lexer": "ipython3",
   "version": "3.9.7"
  }
 },
 "nbformat": 4,
 "nbformat_minor": 5
}
