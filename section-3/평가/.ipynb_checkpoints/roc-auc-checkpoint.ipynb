{
 "cells": [
  {
   "cell_type": "markdown",
   "id": "9164eec3-0403-4cbf-ab00-b3ea57a5e6b5",
   "metadata": {},
   "source": [
    "# Roc-Auc\n",
    "`#roc_curve` `#roc_auc_score`\n",
    "- Roc: TPR,FPR 를 이차원곡선으로 표현\n",
    "- Auc: Roc 곡선의 면적\n",
    "- Auc 면적이 1에 가까울수록 좋은 예측모델, 나쁘면 0.5 까지도 내려갈 수 있음\n",
    "- 의학분야에서 많이 사용됨\n",
    "\n",
    "<img alt=\"roc\" src=\"./images/roc.png\" width=\"300\">\n"
   ]
  },
  {
   "cell_type": "markdown",
   "id": "6eb1c0a8-94e9-48c3-afb3-4ba60b05e997",
   "metadata": {},
   "source": [
    "- FPR = FP / (FP + TN)\n",
    "- TPR = TP / (FN + TP)"
   ]
  },
  {
   "cell_type": "code",
   "execution_count": 1,
   "id": "05c3255a-1f39-4241-9e53-8701260cd671",
   "metadata": {},
   "outputs": [],
   "source": [
    "from sklearn.model_selection import train_test_split\n",
    "from sklearn.metrics import confusion_matrix, accuracy_score, precision_score, recall_score\n",
    "from sklearn.linear_model import LogisticRegression\n",
    "import pandas as pd\n",
    "import numpy as np"
   ]
  },
  {
   "cell_type": "code",
   "execution_count": 2,
   "id": "1c775c82-85e3-476b-a43e-1cb577daad06",
   "metadata": {},
   "outputs": [],
   "source": [
    "from modules.classifier import MyDummyClassifier\n",
    "from modules.classifier import MyFakeClassifier\n",
    "from modules.preprocessing import transform_features"
   ]
  },
  {
   "cell_type": "markdown",
   "id": "c88b8af8-b77d-43a5-a33e-42c70c8d6be7",
   "metadata": {},
   "source": [
    "### 데이터셋 준비 & 예측"
   ]
  },
  {
   "cell_type": "code",
   "execution_count": 3,
   "id": "ee9409b2-121a-4d14-a676-cb72b36a0765",
   "metadata": {},
   "outputs": [],
   "source": [
    "titanic_df = pd.read_csv('../../datasets/titanic/train.csv')\n",
    "y_titanic_df = titanic_df['Survived']\n",
    "X_titanic_df = titanic_df.drop('Survived', axis=1)\n",
    "X_titanic_df = transform_features(X_titanic_df)\n",
    "X_train, X_test, y_train, y_test = train_test_split(X_titanic_df, y_titanic_df,\n",
    "                                                   test_size=0.2, random_state=0)\n",
    "\n",
    "lr_clf = LogisticRegression(max_iter=500)\n",
    "lr_clf.fit(X_train, y_train)\n",
    "pred = lr_clf.predict(X_test)"
   ]
  },
  {
   "cell_type": "markdown",
   "id": "4fbd7c6a-d520-414b-a42c-99e60c4776c2",
   "metadata": {},
   "source": [
    "### ROC 곡선 만들고, 그리기"
   ]
  },
  {
   "cell_type": "code",
   "execution_count": 4,
   "id": "6c3487a4-26f6-442f-a5c4-52486a9703fd",
   "metadata": {},
   "outputs": [],
   "source": [
    "from sklearn.metrics import roc_curve"
   ]
  },
  {
   "cell_type": "code",
   "execution_count": 5,
   "id": "3476c716-0a82-4e29-b318-8f4a24561d88",
   "metadata": {},
   "outputs": [
    {
     "name": "stdout",
     "output_type": "stream",
     "text": [
      "샘플 추출을 위한 임계값 배열의 index: [ 1  6 11 16 21 26 31 36 41 46 51]\n",
      "샘플 index로 추출한 임계값: [0.97 0.69 0.63 0.58 0.42 0.32 0.23 0.16 0.12 0.11 0.07]\n",
      "샘플 임계값별 FPR: [0.    0.045 0.082 0.1   0.209 0.245 0.355 0.464 0.682 0.782 0.927]\n",
      "샘플 임계값별 TPR: [0.014 0.536 0.565 0.71  0.797 0.855 0.884 0.928 0.928 0.942 0.971]\n"
     ]
    }
   ],
   "source": [
    "pred_proba_class1 = lr_clf.predict_proba(X_test)[:, 1]\n",
    "\n",
    "fprs, tprs, thresholds = roc_curve(y_test, pred_proba_class1)\n",
    "\n",
    "thr_index = np.arange(1, thresholds.shape[0], 5)\n",
    "print(\"샘플 추출을 위한 임계값 배열의 index:\", thr_index)\n",
    "print(\"샘플 index로 추출한 임계값:\", np.round(thresholds[thr_index], 2))\n",
    "\n",
    "print(\"샘플 임계값별 FPR:\", np.round(fprs[thr_index], 3))\n",
    "print(\"샘플 임계값별 TPR:\", np.round(tprs[thr_index], 3))"
   ]
  },
  {
   "cell_type": "code",
   "execution_count": 6,
   "id": "3912cb91-6c4b-44f3-af63-c829fda530fa",
   "metadata": {},
   "outputs": [],
   "source": [
    "import matplotlib.pyplot as plt\n",
    "import matplotlib.ticker as ticker\n",
    "%matplotlib inline"
   ]
  },
  {
   "cell_type": "code",
   "execution_count": 7,
   "id": "52260b63-0c6d-477b-8ae0-ad1785a54c41",
   "metadata": {},
   "outputs": [],
   "source": [
    "def roc_curve_plot(y_test, pred_proba_c1):\n",
    "    fprs, tprs, thresholds = roc_curve(y_test, pred_proba_c1)\n",
    "    plt.plot(fprs, tprs, label=\"ROC\")\n",
    "    plt.plot([0, 1], [0, 1], 'k--', label='Random')\n",
    "    \n",
    "    start, end = plt.xlim()\n",
    "    plt.xticks(np.round(np.arange(start, end, 0.1), 2))\n",
    "    plt.xlim(0, 1)\n",
    "    plt.ylim(0, 1)\n",
    "    plt.xlabel('FPR( 1 - Sensitivity )')\n",
    "    plt.ylabel('TPR( Recall )')\n",
    "    plt.legend()\n",
    "    plt.show()"
   ]
  },
  {
   "cell_type": "code",
   "execution_count": 8,
   "id": "09a705e7-5b55-4734-87e6-7d3ed1747693",
   "metadata": {},
   "outputs": [
    {
     "data": {
      "image/png": "[encoded data removed]",
      "text/plain": [
       "<Figure size 432x288 with 1 Axes>"
      ]
     },
     "metadata": {
      "needs_background": "light"
     },
     "output_type": "display_data"
    }
   ],
   "source": [
    "roc_curve_plot(y_test, lr_clf.predict_proba(X_test)[:, 1])"
   ]
  },
  {
   "cell_type": "markdown",
   "id": "6e5d0bd1-5277-4314-864a-7efa4a559d58",
   "metadata": {},
   "source": [
    "### AUC 값 추출"
   ]
  },
  {
   "cell_type": "code",
   "execution_count": 9,
   "id": "31ca57f6-94d6-4760-9832-60082f0212fa",
   "metadata": {},
   "outputs": [],
   "source": [
    "from sklearn.metrics import roc_auc_score"
   ]
  },
  {
   "cell_type": "code",
   "execution_count": 10,
   "id": "2b7ee105-5e84-4c6a-a7b3-882f1fca7259",
   "metadata": {},
   "outputs": [
    {
     "name": "stdout",
     "output_type": "stream",
     "text": [
      "ROC AUC 값: 0.8704\n"
     ]
    }
   ],
   "source": [
    "pred_proba = lr_clf.predict_proba(X_test)[:, 1]\n",
    "roc_score = roc_auc_score(y_test, pred_proba)\n",
    "print('ROC AUC 값: {0:.4f}'.format(roc_score))"
   ]
  },
  {
   "cell_type": "code",
   "execution_count": 11,
   "id": "279d0a5f-eb50-45c5-b099-9b178bc635ce",
   "metadata": {},
   "outputs": [],
   "source": [
    "from sklearn.metrics import f1_score\n",
    "\n",
    "def get_clf_eval(y_test, pred=None, pred_proba=None):\n",
    "    confusion = confusion_matrix(y_test, pred)\n",
    "    accuracy = accuracy_score(y_test, pred)\n",
    "    precision = precision_score(y_test, pred)\n",
    "    recall = recall_score(y_test, pred)\n",
    "    f1 = f1_score(y_test, pred)\n",
    "    roc_auc = roc_auc_score(y_test, pred_proba)\n",
    "    print('오차행렬')\n",
    "    print(confusion)\n",
    "    print('정확도: {0:.4f}, 정밀도: {1:.4f}, 재현율: {2:.4f}, F1: {3:.4f}, AUC: {4:.4f}'\n",
    "         .format(accuracy, precision, recall, f1, roc_auc))"
   ]
  },
  {
   "cell_type": "code",
   "execution_count": 12,
   "id": "03937b25-9614-44f0-8bd2-bdc85366932d",
   "metadata": {},
   "outputs": [
    {
     "name": "stdout",
     "output_type": "stream",
     "text": [
      "오차행렬\n",
      "[[92 18]\n",
      " [16 53]]\n",
      "정확도: 0.8101, 정밀도: 0.7465, 재현율: 0.7681, F1: 0.7571, AUC: 0.8704\n"
     ]
    }
   ],
   "source": [
    "get_clf_eval(y_test, pred, pred_proba)"
   ]
  },
  {
   "cell_type": "code",
   "execution_count": 3,
   "id": "8e9f7a63-4be2-49fd-a7eb-32b7904b453a",
   "metadata": {},
   "outputs": [],
   "source": [
    "def precision_recall_curve_plot(y_test=None, pred_proba_c1=None):\n",
    "    precisions, recalls, thresholds = precision_recall_curve(y_test, pred_proba_c1)\n",
    "    plt.figure(figsize=(8, 6))\n",
    "    threshold_boundary = thresholds.shape[0]\n",
    "    plt.plot(thresholds, precisions[0:threshold_boundary], linestyle='--', label='precision')\n",
    "    plt.plot(thresholds, recalls[0:threshold_boundary], linestyle='--', label='recall')\n",
    "    \n",
    "    start, end = plt.xlim()\n",
    "    plt.xticks(np.round(np.arange(start, end, 0.1), 2))\n",
    "    \n",
    "    plt.xlabel(\"Threshold value\")\n",
    "    plt.ylabel(\"Precision and Recall value\")\n",
    "    plt.legend()\n",
    "    plt.grid()\n",
    "    plt.show()"
   ]
  },
  {
   "cell_type": "code",
   "execution_count": null,
   "id": "2366b80f-0b21-479e-9044-467a077d6068",
   "metadata": {},
   "outputs": [],
   "source": []
  }
 ],
 "metadata": {
  "kernelspec": {
   "display_name": "Python 3 (ipykernel)",
   "language": "python",
   "name": "python3"
  },
  "language_info": {
   "codemirror_mode": {
    "name": "ipython",
    "version": 3
   },
   "file_extension": ".py",
   "mimetype": "text/x-python",
   "name": "python",
   "nbconvert_exporter": "python",
   "pygments_lexer": "ipython3",
   "version": "3.9.7"
  }
 },
 "nbformat": 4,
 "nbformat_minor": 5
}
