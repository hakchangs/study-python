{
 "cells": [
  {
   "cell_type": "markdown",
   "id": "3aae52e1-3bd7-4157-ba27-df74ef111462",
   "metadata": {
    "tags": []
   },
   "source": [
    "# F1 Score\n",
    "`#f1_score`\n",
    "- 정밀도와 재현율이 고르게 높은지 확인하는 지표\n",
    "- 고를수록 높은 값을 갖는다.\n",
    "\n",
    "<img alt=\"f1-score\" src=\"./images/f1-score.png\" width=\"400\">\n"
   ]
  },
  {
   "cell_type": "code",
   "execution_count": 1,
   "id": "463a9b5d-4ed7-4a6e-8d59-6451bd6065fa",
   "metadata": {},
   "outputs": [],
   "source": [
    "from sklearn.model_selection import train_test_split\n",
    "from sklearn.metrics import confusion_matrix, accuracy_score, precision_score, recall_score\n",
    "from sklearn.linear_model import LogisticRegression\n",
    "import pandas as pd"
   ]
  },
  {
   "cell_type": "code",
   "execution_count": 2,
   "id": "b418a01e-4139-4b1d-a599-1ec266a957dd",
   "metadata": {},
   "outputs": [],
   "source": [
    "from modules.classifier import MyDummyClassifier\n",
    "from modules.classifier import MyFakeClassifier\n",
    "from modules.preprocessing import transform_features"
   ]
  },
  {
   "cell_type": "markdown",
   "id": "8281e1d4-04b5-4d08-a179-ddf37f979532",
   "metadata": {},
   "source": [
    "### 데이터셋 준비 & 예측"
   ]
  },
  {
   "cell_type": "code",
   "execution_count": 3,
   "id": "52b66a54-4b4b-4473-b81c-582ee34b0bdf",
   "metadata": {},
   "outputs": [],
   "source": [
    "titanic_df = pd.read_csv('../../datasets/titanic/train.csv')\n",
    "y_titanic_df = titanic_df['Survived']\n",
    "X_titanic_df = titanic_df.drop('Survived', axis=1)\n",
    "X_titanic_df = transform_features(X_titanic_df)\n",
    "X_train, X_test, y_train, y_test = train_test_split(X_titanic_df, y_titanic_df,\n",
    "                                                   test_size=0.2, random_state=0)\n",
    "\n",
    "lr_clf = LogisticRegression(max_iter=500)\n",
    "lr_clf.fit(X_train, y_train)\n",
    "pred = lr_clf.predict(X_test)"
   ]
  },
  {
   "cell_type": "markdown",
   "id": "3f8a6793-5963-4721-9b8c-d7b4b621ac29",
   "metadata": {},
   "source": [
    "### f1 스코어 구하기"
   ]
  },
  {
   "cell_type": "code",
   "execution_count": 4,
   "id": "17e70cea-0ff7-421e-8e6c-5cca277de8ba",
   "metadata": {},
   "outputs": [],
   "source": [
    "from sklearn.metrics import f1_score"
   ]
  },
  {
   "cell_type": "code",
   "execution_count": 5,
   "id": "ee29fefb-5b9e-4b25-97b8-6730196065f1",
   "metadata": {},
   "outputs": [
    {
     "name": "stdout",
     "output_type": "stream",
     "text": [
      "F1 스코어: 0.7571\n"
     ]
    }
   ],
   "source": [
    "f1 = f1_score(y_test, pred)\n",
    "print(\"F1 스코어: {0:.4f}\".format(f1))"
   ]
  },
  {
   "cell_type": "markdown",
   "id": "99fb2da0-13d3-4c47-bb8c-778a46de6d98",
   "metadata": {},
   "source": [
    "### 평가지표 모아보기"
   ]
  },
  {
   "cell_type": "code",
   "execution_count": 6,
   "id": "b7a3be80-dd95-4185-b97f-d801242d8dc8",
   "metadata": {},
   "outputs": [],
   "source": [
    "def get_clf_eval(y_test, pred):\n",
    "    confusion = confusion_matrix(y_test, pred)\n",
    "    accuracy = accuracy_score(y_test, pred)\n",
    "    precision = precision_score(y_test, pred)\n",
    "    recall = recall_score(y_test, pred)\n",
    "    f1 = f1_score(y_test, pred)\n",
    "    print('오차행렬')\n",
    "    print(confusion)\n",
    "    print('정확도: {0:.4f}, 정밀도: {1:.4f}, 재현율: {2:.4f}, F1: {3:.4f}'\n",
    "         .format(accuracy, precision, recall, f1))"
   ]
  },
  {
   "cell_type": "code",
   "execution_count": 7,
   "id": "963fd6df-3dce-465c-b0a6-fb75f8a17808",
   "metadata": {},
   "outputs": [],
   "source": [
    "from sklearn.preprocessing import Binarizer\n",
    "def get_eval_by_threshold(y_test, pred_proba_c1, thresholds):\n",
    "    for t in thresholds:\n",
    "        binarizer = Binarizer(threshold=t).fit(pred_proba_c1)\n",
    "        predict = binarizer.transform(pred_proba_c1)\n",
    "        print(\"임계값:\", t)\n",
    "        get_clf_eval(y_test, predict)"
   ]
  },
  {
   "cell_type": "code",
   "execution_count": 8,
   "id": "ca6cfb60-b4d3-44e1-9a20-412b5d041d53",
   "metadata": {},
   "outputs": [
    {
     "name": "stdout",
     "output_type": "stream",
     "text": [
      "임계값: 0.4\n",
      "오차행렬\n",
      "[[86 24]\n",
      " [13 56]]\n",
      "정확도: 0.7933, 정밀도: 0.7000, 재현율: 0.8116, F1: 0.7517\n",
      "임계값: 0.45\n",
      "오차행렬\n",
      "[[91 19]\n",
      " [14 55]]\n",
      "정확도: 0.8156, 정밀도: 0.7432, 재현율: 0.7971, F1: 0.7692\n",
      "임계값: 0.5\n",
      "오차행렬\n",
      "[[92 18]\n",
      " [16 53]]\n",
      "정확도: 0.8101, 정밀도: 0.7465, 재현율: 0.7681, F1: 0.7571\n",
      "임계값: 0.55\n",
      "오차행렬\n",
      "[[98 12]\n",
      " [18 51]]\n",
      "정확도: 0.8324, 정밀도: 0.8095, 재현율: 0.7391, F1: 0.7727\n",
      "임계값: 0.6\n",
      "오차행렬\n",
      "[[99 11]\n",
      " [25 44]]\n",
      "정확도: 0.7989, 정밀도: 0.8000, 재현율: 0.6377, F1: 0.7097\n"
     ]
    }
   ],
   "source": [
    "thresholds = [0.4, 0.45, 0.50, 0.55, 0.60]\n",
    "pred_proba = lr_clf.predict_proba(X_test)\n",
    "get_eval_by_threshold(y_test, pred_proba[:, 1].reshape(-1, 1), thresholds)"
   ]
  },
  {
   "cell_type": "code",
   "execution_count": null,
   "id": "e3a82c47-bb33-46d9-9131-b302d3784a1a",
   "metadata": {},
   "outputs": [],
   "source": []
  }
 ],
 "metadata": {
  "kernelspec": {
   "display_name": "Python 3 (ipykernel)",
   "language": "python",
   "name": "python3"
  },
  "language_info": {
   "codemirror_mode": {
    "name": "ipython",
    "version": 3
   },
   "file_extension": ".py",
   "mimetype": "text/x-python",
   "name": "python",
   "nbconvert_exporter": "python",
   "pygments_lexer": "ipython3",
   "version": "3.9.7"
  }
 },
 "nbformat": 4,
 "nbformat_minor": 5
}
