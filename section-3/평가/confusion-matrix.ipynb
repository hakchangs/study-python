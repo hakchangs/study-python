{
 "cells": [
  {
   "cell_type": "markdown",
   "id": "bc7d76e5-9328-49d5-a12d-60fcae65acf9",
   "metadata": {},
   "source": [
    "# 오차행렬, 정밀도, 재현율\n",
    "`#confusion_matrix`\n",
    "`#accuracy_score`\n",
    "`#precision_score`\n",
    "`#recall_score`\n",
    "`#precision_recall_curve`\n",
    "\n",
    "- 이진분류시 예측결과를 행렬로 나타내고,\n",
    "- 이를 정밀도, 재현율 등의 측정기준으로 판단한다.\n",
    "\n"
   ]
  },
  {
   "cell_type": "code",
   "execution_count": 2,
   "id": "5fe1c170-188b-445e-885b-9ee2823f2d6d",
   "metadata": {},
   "outputs": [],
   "source": [
    "from sklearn.datasets import load_digits\n",
    "from sklearn.model_selection import train_test_split\n",
    "from sklearn.base import BaseEstimator\n",
    "from sklearn.metrics import accuracy_score\n",
    "import numpy as np\n",
    "import pandas as pd"
   ]
  },
  {
   "cell_type": "code",
   "execution_count": 3,
   "id": "35a447c5-19ff-476d-a5da-f7d0235abf2b",
   "metadata": {},
   "outputs": [
    {
     "name": "stdout",
     "output_type": "stream",
     "text": [
      "[[ 0.  0.  5. ...  0.  0.  0.]\n",
      " [ 0.  0.  0. ... 10.  0.  0.]\n",
      " [ 0.  0.  0. ... 16.  9.  0.]\n",
      " ...\n",
      " [ 0.  0.  1. ...  6.  0.  0.]\n",
      " [ 0.  0.  2. ... 12.  0.  0.]\n",
      " [ 0.  0. 10. ... 12.  1.  0.]]\n",
      "### digits.data.shape: (1797, 64)\n",
      "[0 1 2 ... 8 9 8]\n",
      "### digits.target.shape: (1797,)\n"
     ]
    }
   ],
   "source": [
    "digits = load_digits()\n",
    "      \n",
    "print(digits.data)\n",
    "print('### digits.data.shape:', digits.data.shape)\n",
    "      \n",
    "print(digits.target)\n",
    "print('### digits.target.shape:', digits.target.shape)"
   ]
  },
  {
   "cell_type": "code",
   "execution_count": 4,
   "id": "c9956b8e-7633-410c-a80f-1c37c17f6ce8",
   "metadata": {},
   "outputs": [],
   "source": [
    "y = (digits.target == 7).astype(int)\n",
    "X_train, X_test, y_train, y_test = train_test_split(digits.data, y, random_state=11)"
   ]
  },
  {
   "cell_type": "code",
   "execution_count": 5,
   "id": "c3ab9192-0e70-4a5a-a33e-42a573db3f0a",
   "metadata": {},
   "outputs": [],
   "source": [
    "from modules.classifier import MyDummyClassifier\n",
    "from modules.classifier import MyFakeClassifier\n",
    "from modules.preprocessing import transform_features"
   ]
  },
  {
   "cell_type": "code",
   "execution_count": 6,
   "id": "9708b0c0-198a-43ab-828d-6907122c6f43",
   "metadata": {},
   "outputs": [
    {
     "name": "stdout",
     "output_type": "stream",
     "text": [
      "레이블 테스트 세트 크기: (450,)\n",
      "테스트 세트 레이블 0과 1의 분포도\n",
      "0    405\n",
      "1     45\n",
      "dtype: int64\n",
      "모든 예측을 0으로 하여도 정확도는: 0.900\n"
     ]
    }
   ],
   "source": [
    "print('레이블 테스트 세트 크기:', y_test.shape)\n",
    "print('테스트 세트 레이블 0과 1의 분포도')\n",
    "print(pd.Series(y_test).value_counts())\n",
    "\n",
    "fakeclf = MyFakeClassifier()\n",
    "fakeclf.fit(X_train, y_train)\n",
    "fakepred = fakeclf.predict(X_test)\n",
    "\n",
    "print('모든 예측을 0으로 하여도 정확도는: {:.3f}'.format(accuracy_score(y_test, fakepred)))"
   ]
  },
  {
   "cell_type": "markdown",
   "id": "ef2eb076-d70b-4b95-8da7-3f02a3583a87",
   "metadata": {
    "tags": []
   },
   "source": [
    "## 오차행렬(Confusion Matrix)\n",
    "- Target 값을 0과 1인 경우, 어떤유형의 예측오류가 발생하는지 나타내는 지표\n",
    "- 즉, 이진 분류시 예측오류를 판단하는 척도.\n",
    "- 가로축에 예측결과(Predicted Class)를 놓고, 세로축에 실제 결과(Actual Class)를 놓는다.\n",
    "- 0은 Nagative, 1은 Positive 라 부른다.\n",
    "- TN, FN, FP, TP 의 4가지 지표분류가 나오고 이를 기준으로 분석한다."
   ]
  },
  {
   "cell_type": "code",
   "execution_count": 7,
   "id": "bb98cdbc-494c-4c22-9cdc-7349ff97448c",
   "metadata": {},
   "outputs": [],
   "source": [
    "from sklearn.metrics import confusion_matrix"
   ]
  },
  {
   "cell_type": "code",
   "execution_count": 8,
   "id": "10c28737-a34a-4e63-bfc8-f5713b1067ce",
   "metadata": {},
   "outputs": [
    {
     "data": {
      "text/plain": [
       "array([[405,   0],\n",
       "       [ 45,   0]])"
      ]
     },
     "execution_count": 8,
     "metadata": {},
     "output_type": "execute_result"
    }
   ],
   "source": [
    "###\n",
    "# 오차행렬 출력!\n",
    "###\n",
    "confusion_matrix(y_test, fakepred)"
   ]
  },
  {
   "cell_type": "markdown",
   "id": "c86f8f0f-433e-4ba2-be1f-04ce38a9a5c1",
   "metadata": {},
   "source": [
    "## 정밀도(Precision)\n",
    "- Positive(1)값으로 예측한 경우에 한해서 예측률을 검토함\n",
    "- 전체 데이터 예측보다 세밀한 평가가 가능하다\n",
    "- ex) 스팸메일"
   ]
  },
  {
   "cell_type": "code",
   "execution_count": 9,
   "id": "a2d187b6-6e2f-4e51-8b00-2a23c888ef3c",
   "metadata": {},
   "outputs": [],
   "source": [
    "from sklearn.metrics import accuracy_score, precision_score, recall_score"
   ]
  },
  {
   "cell_type": "code",
   "execution_count": 10,
   "id": "cced7be7-99fc-4260-820a-1c4eca60e4b3",
   "metadata": {},
   "outputs": [
    {
     "name": "stdout",
     "output_type": "stream",
     "text": [
      "정밀도: 0.0\n"
     ]
    }
   ],
   "source": [
    "print(\"정밀도:\", precision_score(y_test, fakepred, zero_division=0))"
   ]
  },
  {
   "cell_type": "markdown",
   "id": "685cfbe0-da18-4192-8f02-f39934437b6b",
   "metadata": {},
   "source": [
    "## 재현률(Recall)\n",
    "- 실제 결과가 Positive(1)인 경우에 국한해 예측률을 검토함\n",
    "- 1,0 결과를 모두 맞추고 있는지 알수 있음\n",
    "- 다시 예측해도 잘 맞출수 있느냐 정도로 유추됨\n",
    "- 반드시 맞춰야되는 경우 보수적인 결과를 얻고 싶으면, 재현율이 좋은 평가지표임\n",
    "- ex) 암 진단, 금융사기 판별"
   ]
  },
  {
   "cell_type": "code",
   "execution_count": 11,
   "id": "81eee152-83cc-47bd-9322-42dabf081604",
   "metadata": {},
   "outputs": [
    {
     "name": "stdout",
     "output_type": "stream",
     "text": [
      "재현률: 0.0\n"
     ]
    }
   ],
   "source": [
    "print(\"재현률:\", recall_score(y_test, fakepred))"
   ]
  },
  {
   "cell_type": "markdown",
   "id": "ca0722d3-7ba8-4217-8014-213c9a6afa24",
   "metadata": {},
   "source": [
    "## 트레이드 오프\n",
    "- 정밀도/재현률 어느하나가 더 좋은 지표가 아니다.\n",
    "- 정밀도가 높아지면 재현률이 낮아지고, 재현률이 좋아지면 정밀도가 낮아지는 데이터 특성을 보인다.\n",
    "- 이는 \"결정 임계값\"(Threshold) 조정에 따라 달리진다.\n",
    "- 결국, 업무의 중요도에 따라 임계값을 설정해야한다."
   ]
  },
  {
   "cell_type": "code",
   "execution_count": 12,
   "id": "79e3f1f6-80e0-4ad2-9f9f-f77d56b408fd",
   "metadata": {},
   "outputs": [],
   "source": [
    "from sklearn.linear_model import LogisticRegression"
   ]
  },
  {
   "cell_type": "code",
   "execution_count": 14,
   "id": "64f53102-a27b-45c6-ad4f-f209615f4d6d",
   "metadata": {},
   "outputs": [],
   "source": [
    "titanic_df = pd.read_csv('../../datasets/titanic/train.csv')\n",
    "y_titanic_df = titanic_df['Survived']\n",
    "X_titanic_df = titanic_df.drop('Survived', axis=1)\n",
    "X_titanic_df = transform_features(X_titanic_df)\n",
    "X_train, X_test, y_train, y_test = train_test_split(X_titanic_df, y_titanic_df,\n",
    "                                                   test_size=0.2, random_state=11)\n",
    "\n",
    "lr_clf = LogisticRegression(max_iter=500)\n",
    "lr_clf.fit(X_train, y_train)\n",
    "mypredictions = lr_clf.predict(X_test)\n"
   ]
  },
  {
   "cell_type": "code",
   "execution_count": 15,
   "id": "c1d6c74a-9514-4261-86ea-c0d743417bd4",
   "metadata": {},
   "outputs": [
    {
     "name": "stdout",
     "output_type": "stream",
     "text": [
      "pred_proba() 결과 Shape: (179, 2)\n",
      "pred_proba array 에서 앞 3개만 샘플로 추출 \n",
      ": [[0.46213804 0.53786196]\n",
      " [0.87867086 0.12132914]\n",
      " [0.87716628 0.12283372]]\n"
     ]
    }
   ],
   "source": [
    "pred_proba = lr_clf.predict_proba(X_test)\n",
    "pred = lr_clf.predict(X_test)\n",
    "print(\"pred_proba() 결과 Shape: {0}\".format(pred_proba.shape))\n",
    "print(\"pred_proba array 에서 앞 3개만 샘플로 추출 \\n:\", pred_proba[:3])"
   ]
  },
  {
   "cell_type": "code",
   "execution_count": 16,
   "id": "7093dd15-aaf4-44b9-afcd-e6d8fe254616",
   "metadata": {},
   "outputs": [
    {
     "name": "stdout",
     "output_type": "stream",
     "text": [
      "두개의 class 중에서 더 큰 확률을 클래스값으로 예측 \n",
      " [[0.46213804 0.53786196 1.        ]\n",
      " [0.87867086 0.12132914 0.        ]\n",
      " [0.87716628 0.12283372 0.        ]]\n"
     ]
    }
   ],
   "source": [
    "pred_proba_result = np.concatenate([pred_proba, pred.reshape(-1, 1)], axis=1)\n",
    "print(\"두개의 class 중에서 더 큰 확률을 클래스값으로 예측 \\n\", pred_proba_result[:3])"
   ]
  },
  {
   "cell_type": "code",
   "execution_count": 17,
   "id": "e76f6c90-95e1-4994-b5f1-bf1eb6f26b08",
   "metadata": {},
   "outputs": [],
   "source": [
    "from sklearn.preprocessing import Binarizer"
   ]
  },
  {
   "cell_type": "code",
   "execution_count": 18,
   "id": "3a27065c-a5f2-4cf1-928f-51896dc05384",
   "metadata": {},
   "outputs": [
    {
     "name": "stdout",
     "output_type": "stream",
     "text": [
      "[[0. 0. 1.]\n",
      " [1. 0. 0.]\n",
      " [0. 0. 1.]]\n"
     ]
    }
   ],
   "source": [
    "X = [[1, -1, 2],\n",
    "     [2,  0, 0],\n",
    "     [0, 1.1, 1.2]]\n",
    "\n",
    "# threshold 기준값보다 같거나 작으면 0을, 크면 1을 반환\n",
    "binarizer = Binarizer(threshold=1.1)\n",
    "print(binarizer.fit_transform(X))"
   ]
  },
  {
   "cell_type": "code",
   "execution_count": 19,
   "id": "e91efeb6-7215-42f3-b8dd-250953595ef6",
   "metadata": {},
   "outputs": [],
   "source": [
    "def get_clf_eval(y_test, pred):\n",
    "    confusion = confusion_matrix(y_test, pred)\n",
    "    accuracy = accuracy_score(y_test, pred)\n",
    "    precision = precision_score(y_test, pred)\n",
    "    recall = recall_score(y_test, pred)\n",
    "    print(\"오차행렬\")\n",
    "    print(confusion)\n",
    "    print(\"정확도: {0:.4f}, 정밀도: {1:.4f}, 재현율: {2:.4f}\".format(accuracy, precision, recall))"
   ]
  },
  {
   "cell_type": "code",
   "execution_count": 20,
   "id": "41683f48-98ec-4912-9e71-1dcef4d220b1",
   "metadata": {},
   "outputs": [
    {
     "name": "stdout",
     "output_type": "stream",
     "text": [
      "오차행렬\n",
      "[[104  14]\n",
      " [ 13  48]]\n",
      "정확도: 0.8492, 정밀도: 0.7742, 재현율: 0.7869\n"
     ]
    }
   ],
   "source": [
    "custom_threshold = 0.5\n",
    "pred_proba_1 = pred_proba[:, 1].reshape(-1, 1)\n",
    "\n",
    "binarizer = Binarizer(threshold=custom_threshold).fit(pred_proba_1)\n",
    "custom_predict = binarizer.transform(pred_proba_1)\n",
    "\n",
    "get_clf_eval(y_test, custom_predict)"
   ]
  },
  {
   "cell_type": "code",
   "execution_count": 21,
   "id": "708ac4a7-6df0-4b13-84a3-c243d21db4ca",
   "metadata": {},
   "outputs": [
    {
     "name": "stdout",
     "output_type": "stream",
     "text": [
      "임계값: 0.4\n",
      "오차행렬\n",
      "[[98 20]\n",
      " [10 51]]\n",
      "정확도: 0.8324, 정밀도: 0.7183, 재현율: 0.8361\n",
      "임계값: 0.45\n",
      "오차행렬\n",
      "[[103  15]\n",
      " [ 12  49]]\n",
      "정확도: 0.8492, 정밀도: 0.7656, 재현율: 0.8033\n",
      "임계값: 0.5\n",
      "오차행렬\n",
      "[[104  14]\n",
      " [ 13  48]]\n",
      "정확도: 0.8492, 정밀도: 0.7742, 재현율: 0.7869\n",
      "임계값: 0.55\n",
      "오차행렬\n",
      "[[109   9]\n",
      " [ 15  46]]\n",
      "정확도: 0.8659, 정밀도: 0.8364, 재현율: 0.7541\n",
      "임계값: 0.6\n",
      "오차행렬\n",
      "[[112   6]\n",
      " [ 16  45]]\n",
      "정확도: 0.8771, 정밀도: 0.8824, 재현율: 0.7377\n"
     ]
    }
   ],
   "source": [
    "# 임계값 여러개로 수행\n",
    "thresholds = [0.4, 0.45, 0.50, 0.55, 0.60]\n",
    "\n",
    "def get_eval_by_threshold(y_test, pred_proba_c1, thresholds):\n",
    "    for t in thresholds:\n",
    "        binarizer = Binarizer(threshold=t).fit(pred_proba_c1)\n",
    "        predict = binarizer.transform(pred_proba_c1)\n",
    "        print(\"임계값:\", t)\n",
    "        get_clf_eval(y_test, predict)\n",
    "\n",
    "get_eval_by_threshold(y_test, pred_proba_1, thresholds)"
   ]
  },
  {
   "cell_type": "code",
   "execution_count": 22,
   "id": "d144b608-09b5-41a0-86d5-cf0c498047c9",
   "metadata": {},
   "outputs": [],
   "source": [
    "from sklearn.metrics import precision_recall_curve"
   ]
  },
  {
   "cell_type": "code",
   "execution_count": 23,
   "id": "b2731b33-7191-4a88-b5b1-022586c5514d",
   "metadata": {},
   "outputs": [
    {
     "name": "stdout",
     "output_type": "stream",
     "text": [
      "반환된 분류결정 임계값 배열의 Shape: (143,)\n",
      "반환된 precision 배열의 shape: (143,)\n",
      "반환된 recalls 배열의 shape: (144,)\n",
      "thresholds 5 sample: [0.10393179 0.10393407 0.10395969 0.10785113 0.108903  ]\n",
      "precisions 5 sample: [0.38853503 0.38461538 0.38709677 0.38961039 0.38562092]\n",
      "recalls 5 sample: [1.         0.98360656 0.98360656 0.98360656 0.96721311]\n",
      "샘플 추출을 위한 임계값 배열의 index 10개: [  0  15  30  45  60  75  90 105 120 135]\n",
      "샘플용 10개의 임계값: [0.1  0.12 0.14 0.19 0.28 0.4  0.56 0.67 0.82 0.95]\n",
      "샘플 임계값별 정밀도: [0.389 0.44  0.466 0.539 0.647 0.729 0.836 0.949 0.958 1.   ]\n",
      "샘플 임계값별 재현율: [1.    0.967 0.902 0.902 0.902 0.836 0.754 0.607 0.377 0.148]\n"
     ]
    }
   ],
   "source": [
    "pred_proba_class1 = lr_clf.predict_proba(X_test)[:, 1]\n",
    "\n",
    "precisions, recalls, thresholds = precision_recall_curve(y_test, pred_proba_class1)\n",
    "print(\"반환된 분류결정 임계값 배열의 Shape:\", thresholds.shape)\n",
    "print(\"반환된 precision 배열의 shape:\", thresholds.shape)\n",
    "print(\"반환된 recalls 배열의 shape:\", recalls.shape)\n",
    "\n",
    "print(\"thresholds 5 sample:\", thresholds[:5])\n",
    "print(\"precisions 5 sample:\", precisions[:5])\n",
    "print(\"recalls 5 sample:\", recalls[:5])\n",
    "\n",
    "thr_index = np.arange(0, thresholds.shape[0], 15)\n",
    "print(\"샘플 추출을 위한 임계값 배열의 index 10개:\", thr_index)\n",
    "print(\"샘플용 10개의 임계값:\", np.round(thresholds[thr_index], 2))\n",
    "\n",
    "print(\"샘플 임계값별 정밀도:\", np.round(precisions[thr_index], 3))\n",
    "print(\"샘플 임계값별 재현율:\", np.round(recalls[thr_index], 3))"
   ]
  },
  {
   "cell_type": "code",
   "execution_count": 24,
   "id": "a8bce03b-7cce-4252-9347-1cdf8bb2b8ec",
   "metadata": {},
   "outputs": [],
   "source": [
    "import matplotlib.pyplot as plt\n",
    "import matplotlib.ticker as ticker\n",
    "%matplotlib inline"
   ]
  },
  {
   "cell_type": "code",
   "execution_count": 25,
   "id": "6be3ba5a-61b1-4f30-994d-c7c9e654ed5a",
   "metadata": {},
   "outputs": [
    {
     "data": {
      "image/png": "[encoded data removed]",
      "text/plain": [
       "<Figure size 576x432 with 1 Axes>"
      ]
     },
     "metadata": {
      "needs_background": "light"
     },
     "output_type": "display_data"
    }
   ],
   "source": [
    "def precision_recall_curve_plot(y_test, pred_proba_c1):\n",
    "    precisions, recalls, thresholds = precision_recall_curve(y_test, pred_proba_c1)\n",
    "    plt.figure(figsize=(8, 6))\n",
    "    threshold_boundary = thresholds.shape[0]\n",
    "    plt.plot(thresholds, precisions[0:threshold_boundary], linestyle='--', label='precision')\n",
    "    plt.plot(thresholds, recalls[0:threshold_boundary], linestyle='--', label='recall')\n",
    "    \n",
    "    start, end = plt.xlim()\n",
    "    plt.xticks(np.round(np.arange(start, end, 0.1), 2))\n",
    "    \n",
    "    plt.xlabel(\"Threshold value\")\n",
    "    plt.ylabel(\"Precision and Recall value\")\n",
    "    plt.legend()\n",
    "    plt.grid()\n",
    "    plt.show()\n",
    "\n",
    "precision_recall_curve_plot(y_test, lr_clf.predict_proba(X_test)[:, 1])"
   ]
  },
  {
   "cell_type": "code",
   "execution_count": null,
   "id": "40f81299-dcdf-4180-96fe-0de40a79eb65",
   "metadata": {},
   "outputs": [],
   "source": []
  }
 ],
 "metadata": {
  "kernelspec": {
   "display_name": "Python 3 (ipykernel)",
   "language": "python",
   "name": "python3"
  },
  "language_info": {
   "codemirror_mode": {
    "name": "ipython",
    "version": 3
   },
   "file_extension": ".py",
   "mimetype": "text/x-python",
   "name": "python",
   "nbconvert_exporter": "python",
   "pygments_lexer": "ipython3",
   "version": "3.9.7"
  }
 },
 "nbformat": 4,
 "nbformat_minor": 5
}
